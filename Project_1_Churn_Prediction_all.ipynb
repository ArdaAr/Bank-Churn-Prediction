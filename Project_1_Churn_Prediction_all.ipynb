{
  "nbformat": 4,
  "nbformat_minor": 0,
  "metadata": {
    "colab": {
      "provenance": [],
      "collapsed_sections": [
        "V2iHhYwF6Qnn",
        "qFpRR4wV2bV-",
        "HMSTF0uAFCKl",
        "JKoNygl6FFO6",
        "T35zwMIDFNfQ",
        "W75O8igvFm8M"
      ]
    },
    "kernelspec": {
      "name": "python3",
      "display_name": "Python 3"
    },
    "language_info": {
      "name": "python"
    },
    "accelerator": "GPU"
  },
  "cells": [
    {
      "cell_type": "markdown",
      "metadata": {
        "id": "V4o7X9lmpg2m"
      },
      "source": [
        "### **Library and Data Preparation**"
      ]
    },
    {
      "cell_type": "code",
      "metadata": {
        "id": "S4oM1kpQWwGh",
        "colab": {
          "base_uri": "https://localhost:8080/",
          "height": 206
        },
        "outputId": "1e94fab7-d27f-411c-e82c-684d5f76a662"
      },
      "source": [
        "#Importing and tuning libraries\n",
        "import pandas as pd\n",
        "import numpy as np\n",
        "import matplotlib.pyplot as plt\n",
        "import seaborn as sns\n",
        "import warnings\n",
        "warnings.filterwarnings('ignore')\n",
        "\n",
        "#Importing data from github\n",
        "df = pd.read_csv('https://raw.githubusercontent.com/fazrialf/DataScience-Things/main/Dataset_9%20-%20Banking.csv')\n",
        "\n",
        "#Removing unused columns\n",
        "df.drop(['Surname','RowNumber','CustomerId'], axis=1, inplace=True)\n",
        "\n",
        "#Print df\n",
        "df.head()"
      ],
      "execution_count": null,
      "outputs": [
        {
          "output_type": "execute_result",
          "data": {
            "text/html": [
              "<div>\n",
              "<style scoped>\n",
              "    .dataframe tbody tr th:only-of-type {\n",
              "        vertical-align: middle;\n",
              "    }\n",
              "\n",
              "    .dataframe tbody tr th {\n",
              "        vertical-align: top;\n",
              "    }\n",
              "\n",
              "    .dataframe thead th {\n",
              "        text-align: right;\n",
              "    }\n",
              "</style>\n",
              "<table border=\"1\" class=\"dataframe\">\n",
              "  <thead>\n",
              "    <tr style=\"text-align: right;\">\n",
              "      <th></th>\n",
              "      <th>CreditScore</th>\n",
              "      <th>Geography</th>\n",
              "      <th>Gender</th>\n",
              "      <th>Age</th>\n",
              "      <th>Tenure</th>\n",
              "      <th>Balance</th>\n",
              "      <th>NumOfProducts</th>\n",
              "      <th>HasCrCard</th>\n",
              "      <th>IsActiveMember</th>\n",
              "      <th>EstimatedSalary</th>\n",
              "      <th>Exited</th>\n",
              "    </tr>\n",
              "  </thead>\n",
              "  <tbody>\n",
              "    <tr>\n",
              "      <th>0</th>\n",
              "      <td>619</td>\n",
              "      <td>France</td>\n",
              "      <td>Female</td>\n",
              "      <td>42</td>\n",
              "      <td>2</td>\n",
              "      <td>0.00</td>\n",
              "      <td>1</td>\n",
              "      <td>1</td>\n",
              "      <td>1</td>\n",
              "      <td>101348.88</td>\n",
              "      <td>1</td>\n",
              "    </tr>\n",
              "    <tr>\n",
              "      <th>1</th>\n",
              "      <td>608</td>\n",
              "      <td>Spain</td>\n",
              "      <td>Female</td>\n",
              "      <td>41</td>\n",
              "      <td>1</td>\n",
              "      <td>83807.86</td>\n",
              "      <td>1</td>\n",
              "      <td>0</td>\n",
              "      <td>1</td>\n",
              "      <td>112542.58</td>\n",
              "      <td>0</td>\n",
              "    </tr>\n",
              "    <tr>\n",
              "      <th>2</th>\n",
              "      <td>502</td>\n",
              "      <td>France</td>\n",
              "      <td>Female</td>\n",
              "      <td>42</td>\n",
              "      <td>8</td>\n",
              "      <td>159660.80</td>\n",
              "      <td>3</td>\n",
              "      <td>1</td>\n",
              "      <td>0</td>\n",
              "      <td>113931.57</td>\n",
              "      <td>1</td>\n",
              "    </tr>\n",
              "    <tr>\n",
              "      <th>3</th>\n",
              "      <td>699</td>\n",
              "      <td>France</td>\n",
              "      <td>Female</td>\n",
              "      <td>39</td>\n",
              "      <td>1</td>\n",
              "      <td>0.00</td>\n",
              "      <td>2</td>\n",
              "      <td>0</td>\n",
              "      <td>0</td>\n",
              "      <td>93826.63</td>\n",
              "      <td>0</td>\n",
              "    </tr>\n",
              "    <tr>\n",
              "      <th>4</th>\n",
              "      <td>850</td>\n",
              "      <td>Spain</td>\n",
              "      <td>Female</td>\n",
              "      <td>43</td>\n",
              "      <td>2</td>\n",
              "      <td>125510.82</td>\n",
              "      <td>1</td>\n",
              "      <td>1</td>\n",
              "      <td>1</td>\n",
              "      <td>79084.10</td>\n",
              "      <td>0</td>\n",
              "    </tr>\n",
              "  </tbody>\n",
              "</table>\n",
              "</div>"
            ],
            "text/plain": [
              "   CreditScore Geography  Gender  ...  IsActiveMember  EstimatedSalary  Exited\n",
              "0          619    France  Female  ...               1        101348.88       1\n",
              "1          608     Spain  Female  ...               1        112542.58       0\n",
              "2          502    France  Female  ...               0        113931.57       1\n",
              "3          699    France  Female  ...               0         93826.63       0\n",
              "4          850     Spain  Female  ...               1         79084.10       0\n",
              "\n",
              "[5 rows x 11 columns]"
            ]
          },
          "metadata": {},
          "execution_count": 1
        }
      ]
    },
    {
      "cell_type": "markdown",
      "metadata": {
        "id": "JJjcMbP7S5ui"
      },
      "source": [
        "### **Exploratory Data Analysis and Preprocessing**"
      ]
    },
    {
      "cell_type": "markdown",
      "metadata": {
        "id": "QySeT19MAXq1"
      },
      "source": [
        "#### **EDA Preparation**"
      ]
    },
    {
      "cell_type": "code",
      "metadata": {
        "id": "C0y-m2VmQ0dJ"
      },
      "source": [
        "#Copying dataframe for EDA\n",
        "df_eda = df.copy()"
      ],
      "execution_count": null,
      "outputs": []
    },
    {
      "cell_type": "code",
      "metadata": {
        "id": "EoVHx4m2f03D"
      },
      "source": [
        "sns.set_theme()"
      ],
      "execution_count": null,
      "outputs": []
    },
    {
      "cell_type": "markdown",
      "metadata": {
        "id": "1WanzqBRoNPy"
      },
      "source": [
        "#### **1. CreditScore**"
      ]
    },
    {
      "cell_type": "code",
      "metadata": {
        "id": "qQKb6MTTuAL_",
        "colab": {
          "base_uri": "https://localhost:8080/",
          "height": 526
        },
        "outputId": "e6e3f281-c4d2-4aba-8ac4-4b295d144dd5"
      },
      "source": [
        "fig = plt.figure(figsize=(7,6))\n",
        "sns.FacetGrid(df_eda, hue=\"Exited\", height=7) \\\n",
        ".map(sns.distplot, \"CreditScore\")\n",
        "plt.title('Distribusi CreditScore Terhadap Keputusan Churn', fontweight='bold', fontsize=15)\n",
        "plt.legend(title='Churn', labels=['No', 'Yes'])\n",
        "plt.tight_layout()\n",
        "plt.show()"
      ],
      "execution_count": null,
      "outputs": [
        {
          "output_type": "display_data",
          "data": {
            "text/plain": [
              "<Figure size 504x432 with 0 Axes>"
            ]
          },
          "metadata": {}
        },
        {
          "output_type": "display_data",
          "data": {
            "image/png": "[encoded data removed]",
            "text/plain": [
              "<Figure size 504x504 with 1 Axes>"
            ]
          },
          "metadata": {}
        }
      ]
    },
    {
      "cell_type": "markdown",
      "metadata": {
        "id": "LDROzGswG7q0"
      },
      "source": [
        "Visualisasi di atas memperlihatkan perbandingan data yang melakukan exit dan yang tidak berdasarkan Credit Score pengguna. Terlihat jelas bahwa yang memiliki Credit Score tinggi mayoritas memilih bertahan/tidak exit. Sedangkan bagi yang memiliki skor sangat rendah memilih untuk exit. Selebihnya, tidak nampak perbedaan yang jelas antara exit maupun tidaknya seseorang jika dilihat dari credit score pada range 500 hingga 800."
      ]
    },
    {
      "cell_type": "markdown",
      "metadata": {
        "id": "XdoSz-6goVuM"
      },
      "source": [
        "#### **2. Geography**"
      ]
    },
    {
      "cell_type": "markdown",
      "metadata": {
        "id": "NZ3MKdDOIWoK"
      },
      "source": [
        "Visualisasi di atas menunjukkan bahwa separuh dari pengguna Bank ini merupakan orang berkewarganegaraan France. Sedangkan separuh lainnya terbagi rata antara kewarganegaraan Germany dan Spain."
      ]
    },
    {
      "cell_type": "code",
      "metadata": {
        "id": "ABL8j01ZUOEH",
        "colab": {
          "base_uri": "https://localhost:8080/",
          "height": 437
        },
        "outputId": "af4b21e3-484f-4952-e0cd-915e4cee9255"
      },
      "source": [
        "#Hubungan Geography dengan Exited\n",
        "fig = plt.figure(figsize=(7,6))\n",
        "sns.countplot(x='Geography', hue = 'Exited',data = df_eda)\n",
        "plt.title('Proporsi Geography Terhadap Keputusan Churn', fontweight='bold', fontsize=15)\n",
        "plt.legend(title='Churn', labels=['No', 'Yes'])\n",
        "plt.ylabel('Banyak Nasabah')\n",
        "plt.xlabel('')\n",
        "plt.tight_layout()\n",
        "plt.show()"
      ],
      "execution_count": null,
      "outputs": [
        {
          "output_type": "display_data",
          "data": {
            "image/png": "[encoded data removed]",
            "text/plain": [
              "<Figure size 504x432 with 1 Axes>"
            ]
          },
          "metadata": {}
        }
      ]
    },
    {
      "cell_type": "markdown",
      "metadata": {
        "id": "oO2mk4p3JGle"
      },
      "source": [
        "Visualisasi di atas memperlihatkan perbandingan data yang melakukan exit dan yang tidak berdasarkan asal negara pengguna. Data Germany menunjukkan bahwa separuh dari penggunanya memilih untuk exit, bahkan jumlahnya melebihi France yang notabene penggunanya dua kali lipat lebih banyak dari Germany. Sedangkan France dan Spain memiliki perbandingan exited yang sama, yaitu kurang lebih seperempatnya."
      ]
    },
    {
      "cell_type": "markdown",
      "metadata": {
        "id": "-ikucUZJp39Y"
      },
      "source": [
        "#### **3. Gender**"
      ]
    },
    {
      "cell_type": "code",
      "metadata": {
        "id": "IOdz7SKGgU4o",
        "colab": {
          "base_uri": "https://localhost:8080/",
          "height": 437
        },
        "outputId": "0703b8d4-103e-4ea3-f7ea-6cae464ed14c"
      },
      "source": [
        "#Hubungan Geography dengan Exited\n",
        "fig = plt.figure(figsize=(7,6))\n",
        "sns.countplot(x='Gender', hue='Exited',data = df_eda)\n",
        "plt.title('Proporsi Gender Terhadap Keputusan Churn', fontweight='bold', fontsize=15)\n",
        "plt.legend(title='Churn', labels=['No', 'Yes'])\n",
        "plt.ylabel('Banyak Nasabah')\n",
        "plt.xlabel('')\n",
        "plt.tight_layout()\n",
        "plt.show()"
      ],
      "execution_count": null,
      "outputs": [
        {
          "output_type": "display_data",
          "data": {
            "image/png": "[encoded data removed]",
            "text/plain": [
              "<Figure size 504x432 with 1 Axes>"
            ]
          },
          "metadata": {}
        }
      ]
    },
    {
      "cell_type": "markdown",
      "metadata": {
        "id": "sY2ok_3RQJWt"
      },
      "source": [
        "\n",
        "Visualisasi diatas menunjukkan perbandingan gender yang melakukan exited dan tidak. Dapat dilihat bahwa gender female yang paling banyak melakukan Exited, sedangkan male tidak.\n"
      ]
    },
    {
      "cell_type": "markdown",
      "metadata": {
        "id": "Qr6eXRHnp-sU"
      },
      "source": [
        "#### **4. Age**"
      ]
    },
    {
      "cell_type": "code",
      "metadata": {
        "id": "5T3sfbOCYZ0D",
        "colab": {
          "base_uri": "https://localhost:8080/",
          "height": 526
        },
        "outputId": "0a485c46-5e22-4098-985b-63ecb0bf5752"
      },
      "source": [
        "fig = plt.figure(figsize=(7,6))\n",
        "sns.FacetGrid(df_eda, hue=\"Exited\", height=7) \\\n",
        ".map(sns.distplot, \"Age\")\n",
        "plt.title('Distribusi Age Terhadap Keputusan Churn', fontweight='bold', fontsize=15)\n",
        "plt.legend(title='Churn', labels=['No', 'Yes'])\n",
        "plt.tight_layout()\n",
        "plt.show()"
      ],
      "execution_count": null,
      "outputs": [
        {
          "output_type": "display_data",
          "data": {
            "text/plain": [
              "<Figure size 504x432 with 0 Axes>"
            ]
          },
          "metadata": {}
        },
        {
          "output_type": "display_data",
          "data": {
            "image/png": "[encoded data removed]",
            "text/plain": [
              "<Figure size 504x504 with 1 Axes>"
            ]
          },
          "metadata": {}
        }
      ]
    },
    {
      "cell_type": "markdown",
      "metadata": {
        "id": "79QOhGetRd-d"
      },
      "source": [
        "Dari visualilasi diatas dapat dilihat kisaran umur dengan customer terbanyak yaitu 30an sampai 40 tahun. "
      ]
    },
    {
      "cell_type": "markdown",
      "metadata": {
        "id": "_UhpOCvbqcLh"
      },
      "source": [
        "#### **5. Tenure**"
      ]
    },
    {
      "cell_type": "code",
      "metadata": {
        "id": "GX5elizb3Bqi"
      },
      "source": [
        "#kolom tenure\n",
        "df_eda['interval_tenure'] = pd.cut(x=df_eda['Tenure'], bins=[1,5,10],labels=['Less Than 5 Yr', 'More Than 5 Yr'],include_lowest=True)"
      ],
      "execution_count": null,
      "outputs": []
    },
    {
      "cell_type": "markdown",
      "metadata": {
        "id": "PCKEXRbfOvli"
      },
      "source": [
        "Fungsi diatas digunakan dalam membuat kolom baru interval_tenure untuk tenure tetapi dengan dikelompokan kurang dari sama dengan 5 tahun dan lebih dari 5 tahun."
      ]
    },
    {
      "cell_type": "code",
      "metadata": {
        "id": "kGoGfEQL6ZQ8",
        "colab": {
          "base_uri": "https://localhost:8080/",
          "height": 112
        },
        "outputId": "ac0294fe-d8b9-41ce-e7bb-07e398d1e665"
      },
      "source": [
        "status = pd.DataFrame(df_eda['interval_tenure'].value_counts())\n",
        "status = status.rename(columns={'interval_tenure':'Amount'})\n",
        "\n",
        "status.head()"
      ],
      "execution_count": null,
      "outputs": [
        {
          "output_type": "execute_result",
          "data": {
            "text/html": [
              "<div>\n",
              "<style scoped>\n",
              "    .dataframe tbody tr th:only-of-type {\n",
              "        vertical-align: middle;\n",
              "    }\n",
              "\n",
              "    .dataframe tbody tr th {\n",
              "        vertical-align: top;\n",
              "    }\n",
              "\n",
              "    .dataframe thead th {\n",
              "        text-align: right;\n",
              "    }\n",
              "</style>\n",
              "<table border=\"1\" class=\"dataframe\">\n",
              "  <thead>\n",
              "    <tr style=\"text-align: right;\">\n",
              "      <th></th>\n",
              "      <th>Amount</th>\n",
              "    </tr>\n",
              "  </thead>\n",
              "  <tbody>\n",
              "    <tr>\n",
              "      <th>Less Than 5 Yr</th>\n",
              "      <td>5093</td>\n",
              "    </tr>\n",
              "    <tr>\n",
              "      <th>More Than 5 Yr</th>\n",
              "      <td>4494</td>\n",
              "    </tr>\n",
              "  </tbody>\n",
              "</table>\n",
              "</div>"
            ],
            "text/plain": [
              "                Amount\n",
              "Less Than 5 Yr    5093\n",
              "More Than 5 Yr    4494"
            ]
          },
          "metadata": {},
          "execution_count": 10
        }
      ]
    },
    {
      "cell_type": "markdown",
      "metadata": {
        "id": "x269EzEWPOFr"
      },
      "source": [
        "Total kurang dari sama  dengan 5 tahun yaitu 5093 lebih banyak daripada lebih dari 5 tahun yang hanya 4494."
      ]
    },
    {
      "cell_type": "code",
      "metadata": {
        "id": "wyfwHYQE6c7J",
        "colab": {
          "base_uri": "https://localhost:8080/",
          "height": 112
        },
        "outputId": "78a54bc6-6e5e-4297-fa4c-89e4e1f33191"
      },
      "source": [
        "interval_tenure = pd.DataFrame(df_eda['interval_tenure'].value_counts(normalize=True))*100\n",
        "interval_tenure = interval_tenure.rename(columns={'interval_tenure':'Proportion'})\n",
        "display(interval_tenure)"
      ],
      "execution_count": null,
      "outputs": [
        {
          "output_type": "display_data",
          "data": {
            "text/html": [
              "<div>\n",
              "<style scoped>\n",
              "    .dataframe tbody tr th:only-of-type {\n",
              "        vertical-align: middle;\n",
              "    }\n",
              "\n",
              "    .dataframe tbody tr th {\n",
              "        vertical-align: top;\n",
              "    }\n",
              "\n",
              "    .dataframe thead th {\n",
              "        text-align: right;\n",
              "    }\n",
              "</style>\n",
              "<table border=\"1\" class=\"dataframe\">\n",
              "  <thead>\n",
              "    <tr style=\"text-align: right;\">\n",
              "      <th></th>\n",
              "      <th>Proportion</th>\n",
              "    </tr>\n",
              "  </thead>\n",
              "  <tbody>\n",
              "    <tr>\n",
              "      <th>Less Than 5 Yr</th>\n",
              "      <td>53.124022</td>\n",
              "    </tr>\n",
              "    <tr>\n",
              "      <th>More Than 5 Yr</th>\n",
              "      <td>46.875978</td>\n",
              "    </tr>\n",
              "  </tbody>\n",
              "</table>\n",
              "</div>"
            ],
            "text/plain": [
              "                Proportion\n",
              "Less Than 5 Yr   53.124022\n",
              "More Than 5 Yr   46.875978"
            ]
          },
          "metadata": {}
        }
      ]
    },
    {
      "cell_type": "markdown",
      "metadata": {
        "id": "ho9fzpxUmBX-"
      },
      "source": [
        "Dari visualisasi diatas menunjukan proportion tenure kurang dari sama dengan 5 tahun lebih banyak yaitu 53% daripada tenure lebih dari 5 tahun yaitu 47%."
      ]
    },
    {
      "cell_type": "code",
      "metadata": {
        "id": "5Ra2JAfIGg6c",
        "colab": {
          "base_uri": "https://localhost:8080/",
          "height": 437
        },
        "outputId": "bbc6e6d2-06f9-41e6-e490-314c0fec6c73"
      },
      "source": [
        "#Tenure dengan Exited\n",
        "fig = plt.figure(figsize=(7,6))\n",
        "sns.countplot(x='interval_tenure', hue='Exited',data = df_eda)\n",
        "plt.title('Proporsi Tenure Terhadap Keputusan Churn', fontweight='bold', fontsize=15)\n",
        "plt.legend(title='Churn', labels=['No', 'Yes'])\n",
        "plt.ylabel('Banyak Nasabah')\n",
        "plt.xlabel('')\n",
        "plt.tight_layout()\n",
        "plt.show()"
      ],
      "execution_count": null,
      "outputs": [
        {
          "output_type": "display_data",
          "data": {
            "image/png": "[encoded data removed]",
            "text/plain": [
              "<Figure size 504x432 with 1 Axes>"
            ]
          },
          "metadata": {}
        }
      ]
    },
    {
      "cell_type": "markdown",
      "metadata": {
        "id": "33l_0Q3X-HTl"
      },
      "source": [
        "Visualisasi diatas memperlihatkan perbandingan data yang melakukan exit dan yang tidak berdasarkan tenure. Tenure kurang dari 5 tahun lebih banyak melakukan exit dan tidak dibandingkan dengan tenure lebih 5 tahun."
      ]
    },
    {
      "cell_type": "code",
      "metadata": {
        "id": "bdk6H6N8_iYS"
      },
      "source": [],
      "execution_count": null,
      "outputs": []
    },
    {
      "cell_type": "markdown",
      "metadata": {
        "id": "_3pxf6Daqjo6"
      },
      "source": [
        "#### **6. Balance**"
      ]
    },
    {
      "cell_type": "code",
      "metadata": {
        "id": "QXolGSAkAsmA",
        "colab": {
          "base_uri": "https://localhost:8080/",
          "height": 526
        },
        "outputId": "2a8dc220-1340-42a0-84a4-c6d1e5cc0c83"
      },
      "source": [
        "fig = plt.figure(figsize=(7,6))\n",
        "sns.FacetGrid(df_eda, hue=\"Exited\", height=7) \\\n",
        ".map(sns.distplot, \"Balance\")\n",
        "plt.title('Distribusi Balance Terhadap Keputusan Churn', fontweight='bold', fontsize=15)\n",
        "plt.legend(title='Churn', labels=['No', 'Yes'])\n",
        "plt.tight_layout()\n",
        "plt.show()"
      ],
      "execution_count": null,
      "outputs": [
        {
          "output_type": "display_data",
          "data": {
            "text/plain": [
              "<Figure size 504x432 with 0 Axes>"
            ]
          },
          "metadata": {}
        },
        {
          "output_type": "display_data",
          "data": {
            "image/png": "[encoded data removed]",
            "text/plain": [
              "<Figure size 504x504 with 1 Axes>"
            ]
          },
          "metadata": {}
        }
      ]
    },
    {
      "cell_type": "markdown",
      "metadata": {
        "id": "RzK_YTcA6umo"
      },
      "source": [
        "Karena ada banyak customers dengan balance nol, membuat fitur biner baru yang menunjukkan apakah customers memiliki balance nol. "
      ]
    },
    {
      "cell_type": "code",
      "metadata": {
        "id": "VHkU1WiIwSt1",
        "colab": {
          "base_uri": "https://localhost:8080/"
        },
        "outputId": "6130aac8-848f-4e3f-c696-a828c6aef153"
      },
      "source": [
        "check_nol = df_eda\n",
        "check_nol['Balance_binary'] = df_eda['Balance'].where(df_eda['Balance'] == 0, 1)\n",
        "check_nol['Balance_binary'].value_counts()"
      ],
      "execution_count": null,
      "outputs": [
        {
          "output_type": "execute_result",
          "data": {
            "text/plain": [
              "1.0    6383\n",
              "0.0    3617\n",
              "Name: Balance_binary, dtype: int64"
            ]
          },
          "metadata": {},
          "execution_count": 24
        }
      ]
    },
    {
      "cell_type": "code",
      "metadata": {
        "colab": {
          "base_uri": "https://localhost:8080/",
          "height": 437
        },
        "id": "z6GswbXu-4ri",
        "outputId": "70df9e89-d482-49ef-802e-de794fb2b866"
      },
      "source": [
        "#Tenure dengan Exited\n",
        "fig = plt.figure(figsize=(7,6))\n",
        "sns.countplot(x='Balance_binary', hue='Exited',data = check_nol)\n",
        "plt.title('Proporsi Balance Terhadap Keputusan Churn', fontweight='bold', fontsize=15)\n",
        "plt.legend(title='Churn', labels=['No', 'Yes'])\n",
        "plt.ylabel('Banyak Nasabah')\n",
        "plt.xlabel('')\n",
        "plt.xticks([0,1], ['Ada Balance', 'Tidak Ada Balance'])\n",
        "plt.tight_layout()\n",
        "plt.show()"
      ],
      "execution_count": null,
      "outputs": [
        {
          "output_type": "display_data",
          "data": {
            "image/png": "[encoded data removed]",
            "text/plain": [
              "<Figure size 504x432 with 1 Axes>"
            ]
          },
          "metadata": {}
        }
      ]
    },
    {
      "cell_type": "markdown",
      "metadata": {
        "id": "FRDaZVF-gMPo"
      },
      "source": [
        "Jadi customer dengan Balance 0 dan tidak keluar ada 3117"
      ]
    },
    {
      "cell_type": "markdown",
      "metadata": {
        "id": "1iuaROvdgUQ7"
      },
      "source": [
        "Jadi customer Balance 0 dan pergi ada 500"
      ]
    },
    {
      "cell_type": "markdown",
      "metadata": {
        "id": "f_ParPezhk-W"
      },
      "source": [
        "Jadi Customer Balance selain 0 dan tidak keluar ada 4846"
      ]
    },
    {
      "cell_type": "markdown",
      "metadata": {
        "id": "2xPATKlKh2Ue"
      },
      "source": [
        "Jadi customer Balance selain 0 dan pergi ada 1537"
      ]
    },
    {
      "cell_type": "markdown",
      "metadata": {
        "id": "OB6V-d3BVkHw"
      },
      "source": [
        "#### **7. NumOfProducts**"
      ]
    },
    {
      "cell_type": "code",
      "metadata": {
        "id": "TCf9gRBnbzbo",
        "colab": {
          "base_uri": "https://localhost:8080/",
          "height": 437
        },
        "outputId": "bc46dae5-aad4-44e2-acf8-3ca62197acd6"
      },
      "source": [
        "fig = plt.figure(figsize=(7,6))\n",
        "sns.countplot(x='NumOfProducts', hue='Exited',data = df_eda)\n",
        "plt.title('Proporsi NumOfProducts Terhadap Keputusan Churn', fontweight='bold', fontsize=15)\n",
        "plt.legend(title='Churn', labels=['No', 'Yes'])\n",
        "plt.ylabel('Banyak Nasabah')\n",
        "plt.xlabel('')\n",
        "plt.tight_layout()\n",
        "plt.show()"
      ],
      "execution_count": null,
      "outputs": [
        {
          "output_type": "display_data",
          "data": {
            "image/png": "[encoded data removed]",
            "text/plain": [
              "<Figure size 504x432 with 1 Axes>"
            ]
          },
          "metadata": {}
        }
      ]
    },
    {
      "cell_type": "markdown",
      "metadata": {
        "id": "JBPak-WFffGp"
      },
      "source": [
        "analisa diatas menunjukkan jumlah product dari setiap customer, untuk customer yang memiliki jumlah product sedikit (1 & 2), mereka cenderung bertahan"
      ]
    },
    {
      "cell_type": "markdown",
      "metadata": {
        "id": "CW_2Hj37VsSv"
      },
      "source": [
        "####**8.HasCrCard**"
      ]
    },
    {
      "cell_type": "code",
      "metadata": {
        "id": "SmPajK3qb1J1",
        "colab": {
          "base_uri": "https://localhost:8080/",
          "height": 437
        },
        "outputId": "777f669d-8121-4c71-cdd1-42cd2d2899ea"
      },
      "source": [
        "fig = plt.figure(figsize=(7,6))\n",
        "sns.countplot(x='HasCrCard', hue='Exited',data = df_eda)\n",
        "plt.title('Proporsi HasCrCard Terhadap Keputusan Churn', fontweight='bold', fontsize=15)\n",
        "plt.legend(title='Churn', labels=['No', 'Yes'])\n",
        "plt.ylabel('Banyak Nasabah')\n",
        "plt.xlabel('')\n",
        "plt.tight_layout()\n",
        "plt.show()"
      ],
      "execution_count": null,
      "outputs": [
        {
          "output_type": "display_data",
          "data": {
            "image/png": "[encoded data removed]",
            "text/plain": [
              "<Figure size 504x432 with 1 Axes>"
            ]
          },
          "metadata": {}
        }
      ]
    },
    {
      "cell_type": "markdown",
      "metadata": {
        "id": "mDAbyg3VfhDo"
      },
      "source": [
        "visualisasi diatas menunjukkan jumlah kepemilikan kartu kredit untuk customer churn dan bertahan. untuk customer yang memiliki kartu kredit, mereka cenderung lebih bertahan."
      ]
    },
    {
      "cell_type": "markdown",
      "metadata": {
        "id": "hNJkOJLJVwDj"
      },
      "source": [
        "####**9. IsActiveMember**"
      ]
    },
    {
      "cell_type": "markdown",
      "metadata": {
        "id": "RFnLhy-dbisA"
      },
      "source": [
        "Berdasarkan visualisasi dibawah ini, member yang tidak aktif memiliki proposi churn lebih tinggi dibandingkan member yang aktif."
      ]
    },
    {
      "cell_type": "code",
      "metadata": {
        "id": "vLFNEzph7vgQ",
        "colab": {
          "base_uri": "https://localhost:8080/",
          "height": 437
        },
        "outputId": "945acf57-1003-4420-e724-201b3db35a4c"
      },
      "source": [
        "fig = plt.figure(figsize=(7,6))\n",
        "sns.countplot(x='IsActiveMember', hue='Exited',data = df_eda)\n",
        "plt.title('Proporsi IsActiveMember Terhadap Keputusan Churn', fontweight='bold', fontsize=15)\n",
        "plt.legend(title='Churn', labels=['No', 'Yes'])\n",
        "plt.ylabel('Banyak Nasabah')\n",
        "plt.xlabel('')\n",
        "plt.tight_layout()\n",
        "plt.show()"
      ],
      "execution_count": null,
      "outputs": [
        {
          "output_type": "display_data",
          "data": {
            "image/png": "[encoded data removed]",
            "text/plain": [
              "<Figure size 504x432 with 1 Axes>"
            ]
          },
          "metadata": {}
        }
      ]
    },
    {
      "cell_type": "markdown",
      "metadata": {
        "id": "om8QhB0UV0ch"
      },
      "source": [
        "####**10. EstimatedSalary**"
      ]
    },
    {
      "cell_type": "markdown",
      "metadata": {
        "id": "ZlckWBacb3C0"
      },
      "source": [
        "Distribusi pada kolom EstimatedSalary "
      ]
    },
    {
      "cell_type": "code",
      "metadata": {
        "id": "Frh6Sy1qWAp6",
        "colab": {
          "base_uri": "https://localhost:8080/",
          "height": 526
        },
        "outputId": "7a4166bc-26cd-4e99-ad49-82048279ab8d"
      },
      "source": [
        "fig = plt.figure(figsize=(7,6))\n",
        "sns.FacetGrid(df_eda, hue=\"Exited\", height=7) \\\n",
        ".map(sns.distplot, \"EstimatedSalary\")\n",
        "plt.title('Distribusi EstimatedSalary Terhadap Keputusan Churn', fontweight='bold', fontsize=15)\n",
        "plt.legend(title='Churn', labels=['No', 'Yes'])\n",
        "plt.tight_layout()\n",
        "plt.show()"
      ],
      "execution_count": null,
      "outputs": [
        {
          "output_type": "display_data",
          "data": {
            "text/plain": [
              "<Figure size 504x432 with 0 Axes>"
            ]
          },
          "metadata": {}
        },
        {
          "output_type": "display_data",
          "data": {
            "image/png": "[encoded data removed]",
            "text/plain": [
              "<Figure size 504x504 with 1 Axes>"
            ]
          },
          "metadata": {}
        }
      ]
    },
    {
      "cell_type": "code",
      "metadata": {
        "id": "ztrZ3wzKWF8Z",
        "colab": {
          "base_uri": "https://localhost:8080/",
          "height": 49
        },
        "outputId": "9ecf8af0-d3ed-4c81-9206-5929f2ba9aa3"
      },
      "source": [
        "check_zero = df_eda[['EstimatedSalary', 'Balance']]\n",
        "check_zero[check_zero['EstimatedSalary'] == 0]"
      ],
      "execution_count": null,
      "outputs": [
        {
          "output_type": "execute_result",
          "data": {
            "text/html": [
              "<div>\n",
              "<style scoped>\n",
              "    .dataframe tbody tr th:only-of-type {\n",
              "        vertical-align: middle;\n",
              "    }\n",
              "\n",
              "    .dataframe tbody tr th {\n",
              "        vertical-align: top;\n",
              "    }\n",
              "\n",
              "    .dataframe thead th {\n",
              "        text-align: right;\n",
              "    }\n",
              "</style>\n",
              "<table border=\"1\" class=\"dataframe\">\n",
              "  <thead>\n",
              "    <tr style=\"text-align: right;\">\n",
              "      <th></th>\n",
              "      <th>EstimatedSalary</th>\n",
              "      <th>Balance</th>\n",
              "    </tr>\n",
              "  </thead>\n",
              "  <tbody>\n",
              "  </tbody>\n",
              "</table>\n",
              "</div>"
            ],
            "text/plain": [
              "Empty DataFrame\n",
              "Columns: [EstimatedSalary, Balance]\n",
              "Index: []"
            ]
          },
          "metadata": {},
          "execution_count": 43
        }
      ]
    },
    {
      "cell_type": "code",
      "metadata": {
        "id": "O2VvgvaUW_G8",
        "colab": {
          "base_uri": "https://localhost:8080/",
          "height": 423
        },
        "outputId": "6196b651-4b07-4612-e92d-e681caa9c934"
      },
      "source": [
        "check_zero.sort_values(by='EstimatedSalary')"
      ],
      "execution_count": null,
      "outputs": [
        {
          "output_type": "execute_result",
          "data": {
            "text/html": [
              "<div>\n",
              "<style scoped>\n",
              "    .dataframe tbody tr th:only-of-type {\n",
              "        vertical-align: middle;\n",
              "    }\n",
              "\n",
              "    .dataframe tbody tr th {\n",
              "        vertical-align: top;\n",
              "    }\n",
              "\n",
              "    .dataframe thead th {\n",
              "        text-align: right;\n",
              "    }\n",
              "</style>\n",
              "<table border=\"1\" class=\"dataframe\">\n",
              "  <thead>\n",
              "    <tr style=\"text-align: right;\">\n",
              "      <th></th>\n",
              "      <th>EstimatedSalary</th>\n",
              "      <th>Balance</th>\n",
              "    </tr>\n",
              "  </thead>\n",
              "  <tbody>\n",
              "    <tr>\n",
              "      <th>2362</th>\n",
              "      <td>11.58</td>\n",
              "      <td>122917.71</td>\n",
              "    </tr>\n",
              "    <tr>\n",
              "      <th>9647</th>\n",
              "      <td>90.07</td>\n",
              "      <td>0.00</td>\n",
              "    </tr>\n",
              "    <tr>\n",
              "      <th>9010</th>\n",
              "      <td>91.75</td>\n",
              "      <td>121669.93</td>\n",
              "    </tr>\n",
              "    <tr>\n",
              "      <th>5548</th>\n",
              "      <td>96.27</td>\n",
              "      <td>0.00</td>\n",
              "    </tr>\n",
              "    <tr>\n",
              "      <th>4989</th>\n",
              "      <td>106.67</td>\n",
              "      <td>0.00</td>\n",
              "    </tr>\n",
              "    <tr>\n",
              "      <th>...</th>\n",
              "      <td>...</td>\n",
              "      <td>...</td>\n",
              "    </tr>\n",
              "    <tr>\n",
              "      <th>8926</th>\n",
              "      <td>199909.32</td>\n",
              "      <td>0.00</td>\n",
              "    </tr>\n",
              "    <tr>\n",
              "      <th>9096</th>\n",
              "      <td>199929.17</td>\n",
              "      <td>178755.84</td>\n",
              "    </tr>\n",
              "    <tr>\n",
              "      <th>4417</th>\n",
              "      <td>199953.33</td>\n",
              "      <td>153325.10</td>\n",
              "    </tr>\n",
              "    <tr>\n",
              "      <th>3580</th>\n",
              "      <td>199970.74</td>\n",
              "      <td>98635.77</td>\n",
              "    </tr>\n",
              "    <tr>\n",
              "      <th>6646</th>\n",
              "      <td>199992.48</td>\n",
              "      <td>0.00</td>\n",
              "    </tr>\n",
              "  </tbody>\n",
              "</table>\n",
              "<p>10000 rows × 2 columns</p>\n",
              "</div>"
            ],
            "text/plain": [
              "      EstimatedSalary    Balance\n",
              "2362            11.58  122917.71\n",
              "9647            90.07       0.00\n",
              "9010            91.75  121669.93\n",
              "5548            96.27       0.00\n",
              "4989           106.67       0.00\n",
              "...               ...        ...\n",
              "8926        199909.32       0.00\n",
              "9096        199929.17  178755.84\n",
              "4417        199953.33  153325.10\n",
              "3580        199970.74   98635.77\n",
              "6646        199992.48       0.00\n",
              "\n",
              "[10000 rows x 2 columns]"
            ]
          },
          "metadata": {},
          "execution_count": 44
        }
      ]
    },
    {
      "cell_type": "code",
      "metadata": {
        "id": "_HR2736eXfB4",
        "colab": {
          "base_uri": "https://localhost:8080/"
        },
        "outputId": "4e223e38-f1b3-4b94-f539-f1d3e2dd799d"
      },
      "source": [
        "check_zero[check_zero['EstimatedSalary'] < 1000].count()"
      ],
      "execution_count": null,
      "outputs": [
        {
          "output_type": "execute_result",
          "data": {
            "text/plain": [
              "EstimatedSalary    59\n",
              "Balance            59\n",
              "dtype: int64"
            ]
          },
          "metadata": {},
          "execution_count": 45
        }
      ]
    },
    {
      "cell_type": "code",
      "metadata": {
        "id": "9Ouu3-RLWgXv",
        "colab": {
          "base_uri": "https://localhost:8080/"
        },
        "outputId": "0491852f-4e7a-4ace-b853-c9f6b8fe0b7b"
      },
      "source": [
        "check_zero.min()"
      ],
      "execution_count": null,
      "outputs": [
        {
          "output_type": "execute_result",
          "data": {
            "text/plain": [
              "EstimatedSalary    11.58\n",
              "Balance             0.00\n",
              "dtype: float64"
            ]
          },
          "metadata": {},
          "execution_count": 46
        }
      ]
    },
    {
      "cell_type": "markdown",
      "metadata": {
        "id": "Op3MxhTzAMqk"
      },
      "source": [
        "#### **Heatmap**"
      ]
    },
    {
      "cell_type": "code",
      "metadata": {
        "id": "XpsoJ0DLdPsP",
        "colab": {
          "base_uri": "https://localhost:8080/",
          "height": 515
        },
        "outputId": "80d14012-cd8c-4002-91a9-299eb824db3d"
      },
      "source": [
        "# Draw the heatmap\n",
        "corr = df.corr()\n",
        "fig, ax = plt.subplots(figsize=(20, 10))\n",
        "sns.heatmap(corr, annot=True, vmin=-0.3, vmax=0.3, cmap='vlag')\n",
        "plt.title(\"Datasets Correlations\", fontweight='bold', fontsize=15)\n",
        "plt.xticks(rotation=0)\n",
        "fig.show()"
      ],
      "execution_count": null,
      "outputs": [
        {
          "output_type": "display_data",
          "data": {
            "image/png": "[encoded data removed]",
            "text/plain": [
              "<Figure size 1440x720 with 2 Axes>"
            ]
          },
          "metadata": {}
        }
      ]
    },
    {
      "cell_type": "markdown",
      "metadata": {
        "id": "0mOcMovcv_om"
      },
      "source": [
        "### **Data Preprocessing**"
      ]
    },
    {
      "cell_type": "markdown",
      "metadata": {
        "id": "vuYRfvFuAr2J"
      },
      "source": [
        "#### **Data Preprocessing Preparation**"
      ]
    },
    {
      "cell_type": "code",
      "metadata": {
        "id": "_zyJeLWIBoMM"
      },
      "source": [
        "df_prep = df_eda.copy()"
      ],
      "execution_count": null,
      "outputs": []
    },
    {
      "cell_type": "markdown",
      "metadata": {
        "id": "qo4bGvx_wEA8"
      },
      "source": [
        "#### **Outliers Handling**"
      ]
    },
    {
      "cell_type": "markdown",
      "metadata": {
        "id": "bdJU3B_kyEQ7"
      },
      "source": [
        "##### **1. CreditScore**"
      ]
    },
    {
      "cell_type": "code",
      "metadata": {
        "colab": {
          "base_uri": "https://localhost:8080/",
          "height": 206
        },
        "id": "gfOxveg7yPbk",
        "outputId": "6ab1d4af-f6c4-4d6e-9180-591caab3d913"
      },
      "source": [
        "# handling outliers using IQR\n",
        "Q1 = df_prep['CreditScore'].quantile(.25)\n",
        "Q3 = df_prep['CreditScore'].quantile(.75)\n",
        "IQR = Q3-Q1\n",
        "min_IQR = Q1 - 1.5 * IQR\n",
        "max_IQR = Q3 + 1.5 * IQR\n",
        "\n",
        "# replace outliers with min threshold value\n",
        "df_prep['CreditScore'] = df_prep['CreditScore'].mask(((df_prep['CreditScore'] \n",
        "                                                       < min_IQR)), min_IQR)\n",
        "df_prep.head()"
      ],
      "execution_count": null,
      "outputs": [
        {
          "output_type": "execute_result",
          "data": {
            "text/html": [
              "<div>\n",
              "<style scoped>\n",
              "    .dataframe tbody tr th:only-of-type {\n",
              "        vertical-align: middle;\n",
              "    }\n",
              "\n",
              "    .dataframe tbody tr th {\n",
              "        vertical-align: top;\n",
              "    }\n",
              "\n",
              "    .dataframe thead th {\n",
              "        text-align: right;\n",
              "    }\n",
              "</style>\n",
              "<table border=\"1\" class=\"dataframe\">\n",
              "  <thead>\n",
              "    <tr style=\"text-align: right;\">\n",
              "      <th></th>\n",
              "      <th>CreditScore</th>\n",
              "      <th>Geography</th>\n",
              "      <th>Gender</th>\n",
              "      <th>Age</th>\n",
              "      <th>Tenure</th>\n",
              "      <th>Balance</th>\n",
              "      <th>NumOfProducts</th>\n",
              "      <th>HasCrCard</th>\n",
              "      <th>IsActiveMember</th>\n",
              "      <th>EstimatedSalary</th>\n",
              "      <th>Exited</th>\n",
              "    </tr>\n",
              "  </thead>\n",
              "  <tbody>\n",
              "    <tr>\n",
              "      <th>0</th>\n",
              "      <td>619</td>\n",
              "      <td>France</td>\n",
              "      <td>Female</td>\n",
              "      <td>42</td>\n",
              "      <td>2</td>\n",
              "      <td>0.00</td>\n",
              "      <td>1</td>\n",
              "      <td>1</td>\n",
              "      <td>1</td>\n",
              "      <td>101348.88</td>\n",
              "      <td>1</td>\n",
              "    </tr>\n",
              "    <tr>\n",
              "      <th>1</th>\n",
              "      <td>608</td>\n",
              "      <td>Spain</td>\n",
              "      <td>Female</td>\n",
              "      <td>41</td>\n",
              "      <td>1</td>\n",
              "      <td>83807.86</td>\n",
              "      <td>1</td>\n",
              "      <td>0</td>\n",
              "      <td>1</td>\n",
              "      <td>112542.58</td>\n",
              "      <td>0</td>\n",
              "    </tr>\n",
              "    <tr>\n",
              "      <th>2</th>\n",
              "      <td>502</td>\n",
              "      <td>France</td>\n",
              "      <td>Female</td>\n",
              "      <td>42</td>\n",
              "      <td>8</td>\n",
              "      <td>159660.80</td>\n",
              "      <td>3</td>\n",
              "      <td>1</td>\n",
              "      <td>0</td>\n",
              "      <td>113931.57</td>\n",
              "      <td>1</td>\n",
              "    </tr>\n",
              "    <tr>\n",
              "      <th>3</th>\n",
              "      <td>699</td>\n",
              "      <td>France</td>\n",
              "      <td>Female</td>\n",
              "      <td>39</td>\n",
              "      <td>1</td>\n",
              "      <td>0.00</td>\n",
              "      <td>2</td>\n",
              "      <td>0</td>\n",
              "      <td>0</td>\n",
              "      <td>93826.63</td>\n",
              "      <td>0</td>\n",
              "    </tr>\n",
              "    <tr>\n",
              "      <th>4</th>\n",
              "      <td>850</td>\n",
              "      <td>Spain</td>\n",
              "      <td>Female</td>\n",
              "      <td>43</td>\n",
              "      <td>2</td>\n",
              "      <td>125510.82</td>\n",
              "      <td>1</td>\n",
              "      <td>1</td>\n",
              "      <td>1</td>\n",
              "      <td>79084.10</td>\n",
              "      <td>0</td>\n",
              "    </tr>\n",
              "  </tbody>\n",
              "</table>\n",
              "</div>"
            ],
            "text/plain": [
              "   CreditScore Geography  Gender  ...  IsActiveMember  EstimatedSalary  Exited\n",
              "0          619    France  Female  ...               1        101348.88       1\n",
              "1          608     Spain  Female  ...               1        112542.58       0\n",
              "2          502    France  Female  ...               0        113931.57       1\n",
              "3          699    France  Female  ...               0         93826.63       0\n",
              "4          850     Spain  Female  ...               1         79084.10       0\n",
              "\n",
              "[5 rows x 11 columns]"
            ]
          },
          "metadata": {},
          "execution_count": 6
        }
      ]
    },
    {
      "cell_type": "code",
      "metadata": {
        "colab": {
          "base_uri": "https://localhost:8080/",
          "height": 410
        },
        "id": "UVFpoy5qySaC",
        "outputId": "ff0f20c6-7196-4a0b-ab67-236d4dc476a5"
      },
      "source": [
        "# outliers has been removed\n",
        "fig, ax = plt.subplots(1,2, figsize=(12,6))\n",
        "sns.boxplot(df['CreditScore'], ax=ax[0])\n",
        "sns.boxplot(df_prep['CreditScore'], ax=ax[1])\n",
        "ax[0].set_title('Credit Score with Outliers')\n",
        "ax[1].set_title('Credit Score without Outliers')\n",
        "plt.show()"
      ],
      "execution_count": null,
      "outputs": [
        {
          "output_type": "display_data",
          "data": {
            "image/png": "[encoded data removed]",
            "text/plain": [
              "<Figure size 864x432 with 2 Axes>"
            ]
          },
          "metadata": {}
        }
      ]
    },
    {
      "cell_type": "markdown",
      "metadata": {
        "id": "V2iHhYwF6Qnn"
      },
      "source": [
        "##### **2. Age**"
      ]
    },
    {
      "cell_type": "code",
      "metadata": {
        "colab": {
          "base_uri": "https://localhost:8080/",
          "height": 206
        },
        "id": "NcNnuYWK6VHx",
        "outputId": "244a4a30-1b02-4454-9b42-8e4e3e26c5ba"
      },
      "source": [
        "# Mencari Q1 dan Q3, kemudian menghitung IQR\n",
        "Q1 = np.quantile(df_prep['Age'], .25)\n",
        "Q3 = np.quantile(df_prep['Age'], .75)\n",
        "IQR = Q3 - Q1\n",
        "\n",
        "# Hitung IQR minimum dan maksimum\n",
        "min_IQR = Q1 - 1.5 * IQR\n",
        "max_IQR = Q3 + 1.5 * IQR\n",
        "\n",
        "\n",
        "df_prep['Age'] = df_prep['Age'].mask(df_prep['Age'] < min_IQR)\n",
        "df_prep['Age'] = df_prep['Age'].mask((df_prep['Age'] > max_IQR), max_IQR)\n",
        "df_prep.head()"
      ],
      "execution_count": null,
      "outputs": [
        {
          "output_type": "execute_result",
          "data": {
            "text/html": [
              "<div>\n",
              "<style scoped>\n",
              "    .dataframe tbody tr th:only-of-type {\n",
              "        vertical-align: middle;\n",
              "    }\n",
              "\n",
              "    .dataframe tbody tr th {\n",
              "        vertical-align: top;\n",
              "    }\n",
              "\n",
              "    .dataframe thead th {\n",
              "        text-align: right;\n",
              "    }\n",
              "</style>\n",
              "<table border=\"1\" class=\"dataframe\">\n",
              "  <thead>\n",
              "    <tr style=\"text-align: right;\">\n",
              "      <th></th>\n",
              "      <th>CreditScore</th>\n",
              "      <th>Geography</th>\n",
              "      <th>Gender</th>\n",
              "      <th>Age</th>\n",
              "      <th>Tenure</th>\n",
              "      <th>Balance</th>\n",
              "      <th>NumOfProducts</th>\n",
              "      <th>HasCrCard</th>\n",
              "      <th>IsActiveMember</th>\n",
              "      <th>EstimatedSalary</th>\n",
              "      <th>Exited</th>\n",
              "    </tr>\n",
              "  </thead>\n",
              "  <tbody>\n",
              "    <tr>\n",
              "      <th>0</th>\n",
              "      <td>619</td>\n",
              "      <td>France</td>\n",
              "      <td>Female</td>\n",
              "      <td>42</td>\n",
              "      <td>2</td>\n",
              "      <td>0.00</td>\n",
              "      <td>1</td>\n",
              "      <td>1</td>\n",
              "      <td>1</td>\n",
              "      <td>101348.88</td>\n",
              "      <td>1</td>\n",
              "    </tr>\n",
              "    <tr>\n",
              "      <th>1</th>\n",
              "      <td>608</td>\n",
              "      <td>Spain</td>\n",
              "      <td>Female</td>\n",
              "      <td>41</td>\n",
              "      <td>1</td>\n",
              "      <td>83807.86</td>\n",
              "      <td>1</td>\n",
              "      <td>0</td>\n",
              "      <td>1</td>\n",
              "      <td>112542.58</td>\n",
              "      <td>0</td>\n",
              "    </tr>\n",
              "    <tr>\n",
              "      <th>2</th>\n",
              "      <td>502</td>\n",
              "      <td>France</td>\n",
              "      <td>Female</td>\n",
              "      <td>42</td>\n",
              "      <td>8</td>\n",
              "      <td>159660.80</td>\n",
              "      <td>3</td>\n",
              "      <td>1</td>\n",
              "      <td>0</td>\n",
              "      <td>113931.57</td>\n",
              "      <td>1</td>\n",
              "    </tr>\n",
              "    <tr>\n",
              "      <th>3</th>\n",
              "      <td>699</td>\n",
              "      <td>France</td>\n",
              "      <td>Female</td>\n",
              "      <td>39</td>\n",
              "      <td>1</td>\n",
              "      <td>0.00</td>\n",
              "      <td>2</td>\n",
              "      <td>0</td>\n",
              "      <td>0</td>\n",
              "      <td>93826.63</td>\n",
              "      <td>0</td>\n",
              "    </tr>\n",
              "    <tr>\n",
              "      <th>4</th>\n",
              "      <td>850</td>\n",
              "      <td>Spain</td>\n",
              "      <td>Female</td>\n",
              "      <td>43</td>\n",
              "      <td>2</td>\n",
              "      <td>125510.82</td>\n",
              "      <td>1</td>\n",
              "      <td>1</td>\n",
              "      <td>1</td>\n",
              "      <td>79084.10</td>\n",
              "      <td>0</td>\n",
              "    </tr>\n",
              "  </tbody>\n",
              "</table>\n",
              "</div>"
            ],
            "text/plain": [
              "   CreditScore Geography  Gender  ...  IsActiveMember  EstimatedSalary  Exited\n",
              "0          619    France  Female  ...               1        101348.88       1\n",
              "1          608     Spain  Female  ...               1        112542.58       0\n",
              "2          502    France  Female  ...               0        113931.57       1\n",
              "3          699    France  Female  ...               0         93826.63       0\n",
              "4          850     Spain  Female  ...               1         79084.10       0\n",
              "\n",
              "[5 rows x 11 columns]"
            ]
          },
          "metadata": {},
          "execution_count": 7
        }
      ]
    },
    {
      "cell_type": "code",
      "metadata": {
        "colab": {
          "base_uri": "https://localhost:8080/",
          "height": 410
        },
        "id": "r5CmbTQf6q0a",
        "outputId": "582c3ed3-bb75-47f9-8ee4-79bf57c91e71"
      },
      "source": [
        "# outliers has been removed\n",
        "fig, ax = plt.subplots(1,2, figsize=(12,6))\n",
        "sns.boxplot(df['Age'], ax=ax[0])\n",
        "sns.boxplot(df_prep['Age'], ax=ax[1])\n",
        "ax[0].set_title('Age with Outliers')\n",
        "ax[1].set_title('Age without Outliers')\n",
        "plt.show()"
      ],
      "execution_count": null,
      "outputs": [
        {
          "output_type": "display_data",
          "data": {
            "image/png": "[encoded data removed]",
            "text/plain": [
              "<Figure size 864x432 with 2 Axes>"
            ]
          },
          "metadata": {}
        }
      ]
    },
    {
      "cell_type": "markdown",
      "metadata": {
        "id": "qFpRR4wV2bV-"
      },
      "source": [
        "#### **Data Encoding**"
      ]
    },
    {
      "cell_type": "code",
      "metadata": {
        "colab": {
          "base_uri": "https://localhost:8080/",
          "height": 206
        },
        "id": "xrt-cKiv2hEZ",
        "outputId": "7d6c57d6-c80e-45bd-91fa-e927cf8b970e"
      },
      "source": [
        "from sklearn.preprocessing import OneHotEncoder\n",
        "\n",
        "ohe = OneHotEncoder(categories=[['France', 'Spain', 'Germany']], handle_unknown='ignore', sparse=False)\n",
        "y = np.array(df_prep['Geography']).reshape(-1,1)\n",
        "ohe.fit(y)\n",
        "y_transform = ohe.transform(y)\n",
        "df_prep[['Geography_France','Geography_Spain','Geography_Germany']] = y_transform\n",
        "df_prep.head()"
      ],
      "execution_count": null,
      "outputs": [
        {
          "output_type": "execute_result",
          "data": {
            "text/html": [
              "<div>\n",
              "<style scoped>\n",
              "    .dataframe tbody tr th:only-of-type {\n",
              "        vertical-align: middle;\n",
              "    }\n",
              "\n",
              "    .dataframe tbody tr th {\n",
              "        vertical-align: top;\n",
              "    }\n",
              "\n",
              "    .dataframe thead th {\n",
              "        text-align: right;\n",
              "    }\n",
              "</style>\n",
              "<table border=\"1\" class=\"dataframe\">\n",
              "  <thead>\n",
              "    <tr style=\"text-align: right;\">\n",
              "      <th></th>\n",
              "      <th>CreditScore</th>\n",
              "      <th>Geography</th>\n",
              "      <th>Gender</th>\n",
              "      <th>Age</th>\n",
              "      <th>Tenure</th>\n",
              "      <th>Balance</th>\n",
              "      <th>NumOfProducts</th>\n",
              "      <th>HasCrCard</th>\n",
              "      <th>IsActiveMember</th>\n",
              "      <th>EstimatedSalary</th>\n",
              "      <th>Exited</th>\n",
              "      <th>Geography_France</th>\n",
              "      <th>Geography_Spain</th>\n",
              "      <th>Geography_Germany</th>\n",
              "    </tr>\n",
              "  </thead>\n",
              "  <tbody>\n",
              "    <tr>\n",
              "      <th>0</th>\n",
              "      <td>619</td>\n",
              "      <td>France</td>\n",
              "      <td>Female</td>\n",
              "      <td>42</td>\n",
              "      <td>2</td>\n",
              "      <td>0.00</td>\n",
              "      <td>1</td>\n",
              "      <td>1</td>\n",
              "      <td>1</td>\n",
              "      <td>101348.88</td>\n",
              "      <td>1</td>\n",
              "      <td>1.0</td>\n",
              "      <td>0.0</td>\n",
              "      <td>0.0</td>\n",
              "    </tr>\n",
              "    <tr>\n",
              "      <th>1</th>\n",
              "      <td>608</td>\n",
              "      <td>Spain</td>\n",
              "      <td>Female</td>\n",
              "      <td>41</td>\n",
              "      <td>1</td>\n",
              "      <td>83807.86</td>\n",
              "      <td>1</td>\n",
              "      <td>0</td>\n",
              "      <td>1</td>\n",
              "      <td>112542.58</td>\n",
              "      <td>0</td>\n",
              "      <td>0.0</td>\n",
              "      <td>1.0</td>\n",
              "      <td>0.0</td>\n",
              "    </tr>\n",
              "    <tr>\n",
              "      <th>2</th>\n",
              "      <td>502</td>\n",
              "      <td>France</td>\n",
              "      <td>Female</td>\n",
              "      <td>42</td>\n",
              "      <td>8</td>\n",
              "      <td>159660.80</td>\n",
              "      <td>3</td>\n",
              "      <td>1</td>\n",
              "      <td>0</td>\n",
              "      <td>113931.57</td>\n",
              "      <td>1</td>\n",
              "      <td>1.0</td>\n",
              "      <td>0.0</td>\n",
              "      <td>0.0</td>\n",
              "    </tr>\n",
              "    <tr>\n",
              "      <th>3</th>\n",
              "      <td>699</td>\n",
              "      <td>France</td>\n",
              "      <td>Female</td>\n",
              "      <td>39</td>\n",
              "      <td>1</td>\n",
              "      <td>0.00</td>\n",
              "      <td>2</td>\n",
              "      <td>0</td>\n",
              "      <td>0</td>\n",
              "      <td>93826.63</td>\n",
              "      <td>0</td>\n",
              "      <td>1.0</td>\n",
              "      <td>0.0</td>\n",
              "      <td>0.0</td>\n",
              "    </tr>\n",
              "    <tr>\n",
              "      <th>4</th>\n",
              "      <td>850</td>\n",
              "      <td>Spain</td>\n",
              "      <td>Female</td>\n",
              "      <td>43</td>\n",
              "      <td>2</td>\n",
              "      <td>125510.82</td>\n",
              "      <td>1</td>\n",
              "      <td>1</td>\n",
              "      <td>1</td>\n",
              "      <td>79084.10</td>\n",
              "      <td>0</td>\n",
              "      <td>0.0</td>\n",
              "      <td>1.0</td>\n",
              "      <td>0.0</td>\n",
              "    </tr>\n",
              "  </tbody>\n",
              "</table>\n",
              "</div>"
            ],
            "text/plain": [
              "   CreditScore Geography  ... Geography_Spain  Geography_Germany\n",
              "0          619    France  ...             0.0                0.0\n",
              "1          608     Spain  ...             1.0                0.0\n",
              "2          502    France  ...             0.0                0.0\n",
              "3          699    France  ...             0.0                0.0\n",
              "4          850     Spain  ...             1.0                0.0\n",
              "\n",
              "[5 rows x 14 columns]"
            ]
          },
          "metadata": {},
          "execution_count": 10
        }
      ]
    },
    {
      "cell_type": "code",
      "metadata": {
        "colab": {
          "base_uri": "https://localhost:8080/",
          "height": 423
        },
        "id": "bK-18t3D2-i2",
        "outputId": "5ec94d1f-f525-41e4-d645-9e9209821df4"
      },
      "source": [
        "df_prep = df_prep.drop(labels='Geography', axis=1)\n",
        "df_prep"
      ],
      "execution_count": null,
      "outputs": [
        {
          "output_type": "execute_result",
          "data": {
            "text/html": [
              "<div>\n",
              "<style scoped>\n",
              "    .dataframe tbody tr th:only-of-type {\n",
              "        vertical-align: middle;\n",
              "    }\n",
              "\n",
              "    .dataframe tbody tr th {\n",
              "        vertical-align: top;\n",
              "    }\n",
              "\n",
              "    .dataframe thead th {\n",
              "        text-align: right;\n",
              "    }\n",
              "</style>\n",
              "<table border=\"1\" class=\"dataframe\">\n",
              "  <thead>\n",
              "    <tr style=\"text-align: right;\">\n",
              "      <th></th>\n",
              "      <th>CreditScore</th>\n",
              "      <th>Gender</th>\n",
              "      <th>Age</th>\n",
              "      <th>Tenure</th>\n",
              "      <th>Balance</th>\n",
              "      <th>NumOfProducts</th>\n",
              "      <th>HasCrCard</th>\n",
              "      <th>IsActiveMember</th>\n",
              "      <th>EstimatedSalary</th>\n",
              "      <th>Exited</th>\n",
              "      <th>Geography_France</th>\n",
              "      <th>Geography_Spain</th>\n",
              "      <th>Geography_Germany</th>\n",
              "    </tr>\n",
              "  </thead>\n",
              "  <tbody>\n",
              "    <tr>\n",
              "      <th>0</th>\n",
              "      <td>619</td>\n",
              "      <td>Female</td>\n",
              "      <td>42</td>\n",
              "      <td>2</td>\n",
              "      <td>0.00</td>\n",
              "      <td>1</td>\n",
              "      <td>1</td>\n",
              "      <td>1</td>\n",
              "      <td>101348.88</td>\n",
              "      <td>1</td>\n",
              "      <td>1.0</td>\n",
              "      <td>0.0</td>\n",
              "      <td>0.0</td>\n",
              "    </tr>\n",
              "    <tr>\n",
              "      <th>1</th>\n",
              "      <td>608</td>\n",
              "      <td>Female</td>\n",
              "      <td>41</td>\n",
              "      <td>1</td>\n",
              "      <td>83807.86</td>\n",
              "      <td>1</td>\n",
              "      <td>0</td>\n",
              "      <td>1</td>\n",
              "      <td>112542.58</td>\n",
              "      <td>0</td>\n",
              "      <td>0.0</td>\n",
              "      <td>1.0</td>\n",
              "      <td>0.0</td>\n",
              "    </tr>\n",
              "    <tr>\n",
              "      <th>2</th>\n",
              "      <td>502</td>\n",
              "      <td>Female</td>\n",
              "      <td>42</td>\n",
              "      <td>8</td>\n",
              "      <td>159660.80</td>\n",
              "      <td>3</td>\n",
              "      <td>1</td>\n",
              "      <td>0</td>\n",
              "      <td>113931.57</td>\n",
              "      <td>1</td>\n",
              "      <td>1.0</td>\n",
              "      <td>0.0</td>\n",
              "      <td>0.0</td>\n",
              "    </tr>\n",
              "    <tr>\n",
              "      <th>3</th>\n",
              "      <td>699</td>\n",
              "      <td>Female</td>\n",
              "      <td>39</td>\n",
              "      <td>1</td>\n",
              "      <td>0.00</td>\n",
              "      <td>2</td>\n",
              "      <td>0</td>\n",
              "      <td>0</td>\n",
              "      <td>93826.63</td>\n",
              "      <td>0</td>\n",
              "      <td>1.0</td>\n",
              "      <td>0.0</td>\n",
              "      <td>0.0</td>\n",
              "    </tr>\n",
              "    <tr>\n",
              "      <th>4</th>\n",
              "      <td>850</td>\n",
              "      <td>Female</td>\n",
              "      <td>43</td>\n",
              "      <td>2</td>\n",
              "      <td>125510.82</td>\n",
              "      <td>1</td>\n",
              "      <td>1</td>\n",
              "      <td>1</td>\n",
              "      <td>79084.10</td>\n",
              "      <td>0</td>\n",
              "      <td>0.0</td>\n",
              "      <td>1.0</td>\n",
              "      <td>0.0</td>\n",
              "    </tr>\n",
              "    <tr>\n",
              "      <th>...</th>\n",
              "      <td>...</td>\n",
              "      <td>...</td>\n",
              "      <td>...</td>\n",
              "      <td>...</td>\n",
              "      <td>...</td>\n",
              "      <td>...</td>\n",
              "      <td>...</td>\n",
              "      <td>...</td>\n",
              "      <td>...</td>\n",
              "      <td>...</td>\n",
              "      <td>...</td>\n",
              "      <td>...</td>\n",
              "      <td>...</td>\n",
              "    </tr>\n",
              "    <tr>\n",
              "      <th>9995</th>\n",
              "      <td>771</td>\n",
              "      <td>Male</td>\n",
              "      <td>39</td>\n",
              "      <td>5</td>\n",
              "      <td>0.00</td>\n",
              "      <td>2</td>\n",
              "      <td>1</td>\n",
              "      <td>0</td>\n",
              "      <td>96270.64</td>\n",
              "      <td>0</td>\n",
              "      <td>1.0</td>\n",
              "      <td>0.0</td>\n",
              "      <td>0.0</td>\n",
              "    </tr>\n",
              "    <tr>\n",
              "      <th>9996</th>\n",
              "      <td>516</td>\n",
              "      <td>Male</td>\n",
              "      <td>35</td>\n",
              "      <td>10</td>\n",
              "      <td>57369.61</td>\n",
              "      <td>1</td>\n",
              "      <td>1</td>\n",
              "      <td>1</td>\n",
              "      <td>101699.77</td>\n",
              "      <td>0</td>\n",
              "      <td>1.0</td>\n",
              "      <td>0.0</td>\n",
              "      <td>0.0</td>\n",
              "    </tr>\n",
              "    <tr>\n",
              "      <th>9997</th>\n",
              "      <td>709</td>\n",
              "      <td>Female</td>\n",
              "      <td>36</td>\n",
              "      <td>7</td>\n",
              "      <td>0.00</td>\n",
              "      <td>1</td>\n",
              "      <td>0</td>\n",
              "      <td>1</td>\n",
              "      <td>42085.58</td>\n",
              "      <td>1</td>\n",
              "      <td>1.0</td>\n",
              "      <td>0.0</td>\n",
              "      <td>0.0</td>\n",
              "    </tr>\n",
              "    <tr>\n",
              "      <th>9998</th>\n",
              "      <td>772</td>\n",
              "      <td>Male</td>\n",
              "      <td>42</td>\n",
              "      <td>3</td>\n",
              "      <td>75075.31</td>\n",
              "      <td>2</td>\n",
              "      <td>1</td>\n",
              "      <td>0</td>\n",
              "      <td>92888.52</td>\n",
              "      <td>1</td>\n",
              "      <td>0.0</td>\n",
              "      <td>0.0</td>\n",
              "      <td>1.0</td>\n",
              "    </tr>\n",
              "    <tr>\n",
              "      <th>9999</th>\n",
              "      <td>792</td>\n",
              "      <td>Female</td>\n",
              "      <td>28</td>\n",
              "      <td>4</td>\n",
              "      <td>130142.79</td>\n",
              "      <td>1</td>\n",
              "      <td>1</td>\n",
              "      <td>0</td>\n",
              "      <td>38190.78</td>\n",
              "      <td>0</td>\n",
              "      <td>1.0</td>\n",
              "      <td>0.0</td>\n",
              "      <td>0.0</td>\n",
              "    </tr>\n",
              "  </tbody>\n",
              "</table>\n",
              "<p>10000 rows × 13 columns</p>\n",
              "</div>"
            ],
            "text/plain": [
              "      CreditScore  Gender  ...  Geography_Spain  Geography_Germany\n",
              "0             619  Female  ...              0.0                0.0\n",
              "1             608  Female  ...              1.0                0.0\n",
              "2             502  Female  ...              0.0                0.0\n",
              "3             699  Female  ...              0.0                0.0\n",
              "4             850  Female  ...              1.0                0.0\n",
              "...           ...     ...  ...              ...                ...\n",
              "9995          771    Male  ...              0.0                0.0\n",
              "9996          516    Male  ...              0.0                0.0\n",
              "9997          709  Female  ...              0.0                0.0\n",
              "9998          772    Male  ...              0.0                1.0\n",
              "9999          792  Female  ...              0.0                0.0\n",
              "\n",
              "[10000 rows x 13 columns]"
            ]
          },
          "metadata": {},
          "execution_count": 11
        }
      ]
    },
    {
      "cell_type": "code",
      "metadata": {
        "id": "w4pgKbNo5BIN",
        "colab": {
          "base_uri": "https://localhost:8080/",
          "height": 226
        },
        "outputId": "2ec7a0f6-b67f-4b97-a001-5ef56ff6d873"
      },
      "source": [
        "from sklearn.preprocessing import OneHotEncoder\n",
        "\n",
        "ohe = OneHotEncoder(categories=[['Female', 'Male']], handle_unknown='ignore', sparse=False)\n",
        "y = np.array(df_prep['Gender']).reshape(-1,1)\n",
        "ohe.fit(y)\n",
        "y_transform = ohe.transform(y)\n",
        "df_prep[['Gender_Female','Gender_Male']] = y_transform\n",
        "df_prep.head()"
      ],
      "execution_count": null,
      "outputs": [
        {
          "output_type": "execute_result",
          "data": {
            "text/html": [
              "<div>\n",
              "<style scoped>\n",
              "    .dataframe tbody tr th:only-of-type {\n",
              "        vertical-align: middle;\n",
              "    }\n",
              "\n",
              "    .dataframe tbody tr th {\n",
              "        vertical-align: top;\n",
              "    }\n",
              "\n",
              "    .dataframe thead th {\n",
              "        text-align: right;\n",
              "    }\n",
              "</style>\n",
              "<table border=\"1\" class=\"dataframe\">\n",
              "  <thead>\n",
              "    <tr style=\"text-align: right;\">\n",
              "      <th></th>\n",
              "      <th>CreditScore</th>\n",
              "      <th>Gender</th>\n",
              "      <th>Age</th>\n",
              "      <th>Tenure</th>\n",
              "      <th>Balance</th>\n",
              "      <th>NumOfProducts</th>\n",
              "      <th>HasCrCard</th>\n",
              "      <th>IsActiveMember</th>\n",
              "      <th>EstimatedSalary</th>\n",
              "      <th>Exited</th>\n",
              "      <th>Geography_France</th>\n",
              "      <th>Geography_Spain</th>\n",
              "      <th>Geography_Germany</th>\n",
              "      <th>Gender_Female</th>\n",
              "      <th>Gender_Male</th>\n",
              "    </tr>\n",
              "  </thead>\n",
              "  <tbody>\n",
              "    <tr>\n",
              "      <th>0</th>\n",
              "      <td>619</td>\n",
              "      <td>Female</td>\n",
              "      <td>42</td>\n",
              "      <td>2</td>\n",
              "      <td>0.00</td>\n",
              "      <td>1</td>\n",
              "      <td>1</td>\n",
              "      <td>1</td>\n",
              "      <td>101348.88</td>\n",
              "      <td>1</td>\n",
              "      <td>1.0</td>\n",
              "      <td>0.0</td>\n",
              "      <td>0.0</td>\n",
              "      <td>1.0</td>\n",
              "      <td>0.0</td>\n",
              "    </tr>\n",
              "    <tr>\n",
              "      <th>1</th>\n",
              "      <td>608</td>\n",
              "      <td>Female</td>\n",
              "      <td>41</td>\n",
              "      <td>1</td>\n",
              "      <td>83807.86</td>\n",
              "      <td>1</td>\n",
              "      <td>0</td>\n",
              "      <td>1</td>\n",
              "      <td>112542.58</td>\n",
              "      <td>0</td>\n",
              "      <td>0.0</td>\n",
              "      <td>1.0</td>\n",
              "      <td>0.0</td>\n",
              "      <td>1.0</td>\n",
              "      <td>0.0</td>\n",
              "    </tr>\n",
              "    <tr>\n",
              "      <th>2</th>\n",
              "      <td>502</td>\n",
              "      <td>Female</td>\n",
              "      <td>42</td>\n",
              "      <td>8</td>\n",
              "      <td>159660.80</td>\n",
              "      <td>3</td>\n",
              "      <td>1</td>\n",
              "      <td>0</td>\n",
              "      <td>113931.57</td>\n",
              "      <td>1</td>\n",
              "      <td>1.0</td>\n",
              "      <td>0.0</td>\n",
              "      <td>0.0</td>\n",
              "      <td>1.0</td>\n",
              "      <td>0.0</td>\n",
              "    </tr>\n",
              "    <tr>\n",
              "      <th>3</th>\n",
              "      <td>699</td>\n",
              "      <td>Female</td>\n",
              "      <td>39</td>\n",
              "      <td>1</td>\n",
              "      <td>0.00</td>\n",
              "      <td>2</td>\n",
              "      <td>0</td>\n",
              "      <td>0</td>\n",
              "      <td>93826.63</td>\n",
              "      <td>0</td>\n",
              "      <td>1.0</td>\n",
              "      <td>0.0</td>\n",
              "      <td>0.0</td>\n",
              "      <td>1.0</td>\n",
              "      <td>0.0</td>\n",
              "    </tr>\n",
              "    <tr>\n",
              "      <th>4</th>\n",
              "      <td>850</td>\n",
              "      <td>Female</td>\n",
              "      <td>43</td>\n",
              "      <td>2</td>\n",
              "      <td>125510.82</td>\n",
              "      <td>1</td>\n",
              "      <td>1</td>\n",
              "      <td>1</td>\n",
              "      <td>79084.10</td>\n",
              "      <td>0</td>\n",
              "      <td>0.0</td>\n",
              "      <td>1.0</td>\n",
              "      <td>0.0</td>\n",
              "      <td>1.0</td>\n",
              "      <td>0.0</td>\n",
              "    </tr>\n",
              "  </tbody>\n",
              "</table>\n",
              "</div>"
            ],
            "text/plain": [
              "   CreditScore  Gender  Age  ...  Geography_Germany  Gender_Female  Gender_Male\n",
              "0          619  Female   42  ...                0.0            1.0          0.0\n",
              "1          608  Female   41  ...                0.0            1.0          0.0\n",
              "2          502  Female   42  ...                0.0            1.0          0.0\n",
              "3          699  Female   39  ...                0.0            1.0          0.0\n",
              "4          850  Female   43  ...                0.0            1.0          0.0\n",
              "\n",
              "[5 rows x 15 columns]"
            ]
          },
          "metadata": {},
          "execution_count": 12
        }
      ]
    },
    {
      "cell_type": "code",
      "metadata": {
        "id": "qQtDOxyB5J03",
        "colab": {
          "base_uri": "https://localhost:8080/",
          "height": 443
        },
        "outputId": "94bf9469-992a-4ec5-f738-971ac2b03f7b"
      },
      "source": [
        "df_prep.drop(columns=['Gender'], axis=1, inplace=True)\n",
        "df_prep"
      ],
      "execution_count": null,
      "outputs": [
        {
          "output_type": "execute_result",
          "data": {
            "text/html": [
              "<div>\n",
              "<style scoped>\n",
              "    .dataframe tbody tr th:only-of-type {\n",
              "        vertical-align: middle;\n",
              "    }\n",
              "\n",
              "    .dataframe tbody tr th {\n",
              "        vertical-align: top;\n",
              "    }\n",
              "\n",
              "    .dataframe thead th {\n",
              "        text-align: right;\n",
              "    }\n",
              "</style>\n",
              "<table border=\"1\" class=\"dataframe\">\n",
              "  <thead>\n",
              "    <tr style=\"text-align: right;\">\n",
              "      <th></th>\n",
              "      <th>CreditScore</th>\n",
              "      <th>Age</th>\n",
              "      <th>Tenure</th>\n",
              "      <th>Balance</th>\n",
              "      <th>NumOfProducts</th>\n",
              "      <th>HasCrCard</th>\n",
              "      <th>IsActiveMember</th>\n",
              "      <th>EstimatedSalary</th>\n",
              "      <th>Exited</th>\n",
              "      <th>Geography_France</th>\n",
              "      <th>Geography_Spain</th>\n",
              "      <th>Geography_Germany</th>\n",
              "      <th>Gender_Female</th>\n",
              "      <th>Gender_Male</th>\n",
              "    </tr>\n",
              "  </thead>\n",
              "  <tbody>\n",
              "    <tr>\n",
              "      <th>0</th>\n",
              "      <td>619</td>\n",
              "      <td>42</td>\n",
              "      <td>2</td>\n",
              "      <td>0.00</td>\n",
              "      <td>1</td>\n",
              "      <td>1</td>\n",
              "      <td>1</td>\n",
              "      <td>101348.88</td>\n",
              "      <td>1</td>\n",
              "      <td>1.0</td>\n",
              "      <td>0.0</td>\n",
              "      <td>0.0</td>\n",
              "      <td>1.0</td>\n",
              "      <td>0.0</td>\n",
              "    </tr>\n",
              "    <tr>\n",
              "      <th>1</th>\n",
              "      <td>608</td>\n",
              "      <td>41</td>\n",
              "      <td>1</td>\n",
              "      <td>83807.86</td>\n",
              "      <td>1</td>\n",
              "      <td>0</td>\n",
              "      <td>1</td>\n",
              "      <td>112542.58</td>\n",
              "      <td>0</td>\n",
              "      <td>0.0</td>\n",
              "      <td>1.0</td>\n",
              "      <td>0.0</td>\n",
              "      <td>1.0</td>\n",
              "      <td>0.0</td>\n",
              "    </tr>\n",
              "    <tr>\n",
              "      <th>2</th>\n",
              "      <td>502</td>\n",
              "      <td>42</td>\n",
              "      <td>8</td>\n",
              "      <td>159660.80</td>\n",
              "      <td>3</td>\n",
              "      <td>1</td>\n",
              "      <td>0</td>\n",
              "      <td>113931.57</td>\n",
              "      <td>1</td>\n",
              "      <td>1.0</td>\n",
              "      <td>0.0</td>\n",
              "      <td>0.0</td>\n",
              "      <td>1.0</td>\n",
              "      <td>0.0</td>\n",
              "    </tr>\n",
              "    <tr>\n",
              "      <th>3</th>\n",
              "      <td>699</td>\n",
              "      <td>39</td>\n",
              "      <td>1</td>\n",
              "      <td>0.00</td>\n",
              "      <td>2</td>\n",
              "      <td>0</td>\n",
              "      <td>0</td>\n",
              "      <td>93826.63</td>\n",
              "      <td>0</td>\n",
              "      <td>1.0</td>\n",
              "      <td>0.0</td>\n",
              "      <td>0.0</td>\n",
              "      <td>1.0</td>\n",
              "      <td>0.0</td>\n",
              "    </tr>\n",
              "    <tr>\n",
              "      <th>4</th>\n",
              "      <td>850</td>\n",
              "      <td>43</td>\n",
              "      <td>2</td>\n",
              "      <td>125510.82</td>\n",
              "      <td>1</td>\n",
              "      <td>1</td>\n",
              "      <td>1</td>\n",
              "      <td>79084.10</td>\n",
              "      <td>0</td>\n",
              "      <td>0.0</td>\n",
              "      <td>1.0</td>\n",
              "      <td>0.0</td>\n",
              "      <td>1.0</td>\n",
              "      <td>0.0</td>\n",
              "    </tr>\n",
              "    <tr>\n",
              "      <th>...</th>\n",
              "      <td>...</td>\n",
              "      <td>...</td>\n",
              "      <td>...</td>\n",
              "      <td>...</td>\n",
              "      <td>...</td>\n",
              "      <td>...</td>\n",
              "      <td>...</td>\n",
              "      <td>...</td>\n",
              "      <td>...</td>\n",
              "      <td>...</td>\n",
              "      <td>...</td>\n",
              "      <td>...</td>\n",
              "      <td>...</td>\n",
              "      <td>...</td>\n",
              "    </tr>\n",
              "    <tr>\n",
              "      <th>9995</th>\n",
              "      <td>771</td>\n",
              "      <td>39</td>\n",
              "      <td>5</td>\n",
              "      <td>0.00</td>\n",
              "      <td>2</td>\n",
              "      <td>1</td>\n",
              "      <td>0</td>\n",
              "      <td>96270.64</td>\n",
              "      <td>0</td>\n",
              "      <td>1.0</td>\n",
              "      <td>0.0</td>\n",
              "      <td>0.0</td>\n",
              "      <td>0.0</td>\n",
              "      <td>1.0</td>\n",
              "    </tr>\n",
              "    <tr>\n",
              "      <th>9996</th>\n",
              "      <td>516</td>\n",
              "      <td>35</td>\n",
              "      <td>10</td>\n",
              "      <td>57369.61</td>\n",
              "      <td>1</td>\n",
              "      <td>1</td>\n",
              "      <td>1</td>\n",
              "      <td>101699.77</td>\n",
              "      <td>0</td>\n",
              "      <td>1.0</td>\n",
              "      <td>0.0</td>\n",
              "      <td>0.0</td>\n",
              "      <td>0.0</td>\n",
              "      <td>1.0</td>\n",
              "    </tr>\n",
              "    <tr>\n",
              "      <th>9997</th>\n",
              "      <td>709</td>\n",
              "      <td>36</td>\n",
              "      <td>7</td>\n",
              "      <td>0.00</td>\n",
              "      <td>1</td>\n",
              "      <td>0</td>\n",
              "      <td>1</td>\n",
              "      <td>42085.58</td>\n",
              "      <td>1</td>\n",
              "      <td>1.0</td>\n",
              "      <td>0.0</td>\n",
              "      <td>0.0</td>\n",
              "      <td>1.0</td>\n",
              "      <td>0.0</td>\n",
              "    </tr>\n",
              "    <tr>\n",
              "      <th>9998</th>\n",
              "      <td>772</td>\n",
              "      <td>42</td>\n",
              "      <td>3</td>\n",
              "      <td>75075.31</td>\n",
              "      <td>2</td>\n",
              "      <td>1</td>\n",
              "      <td>0</td>\n",
              "      <td>92888.52</td>\n",
              "      <td>1</td>\n",
              "      <td>0.0</td>\n",
              "      <td>0.0</td>\n",
              "      <td>1.0</td>\n",
              "      <td>0.0</td>\n",
              "      <td>1.0</td>\n",
              "    </tr>\n",
              "    <tr>\n",
              "      <th>9999</th>\n",
              "      <td>792</td>\n",
              "      <td>28</td>\n",
              "      <td>4</td>\n",
              "      <td>130142.79</td>\n",
              "      <td>1</td>\n",
              "      <td>1</td>\n",
              "      <td>0</td>\n",
              "      <td>38190.78</td>\n",
              "      <td>0</td>\n",
              "      <td>1.0</td>\n",
              "      <td>0.0</td>\n",
              "      <td>0.0</td>\n",
              "      <td>1.0</td>\n",
              "      <td>0.0</td>\n",
              "    </tr>\n",
              "  </tbody>\n",
              "</table>\n",
              "<p>10000 rows × 14 columns</p>\n",
              "</div>"
            ],
            "text/plain": [
              "      CreditScore  Age  Tenure  ...  Geography_Germany  Gender_Female  Gender_Male\n",
              "0             619   42       2  ...                0.0            1.0          0.0\n",
              "1             608   41       1  ...                0.0            1.0          0.0\n",
              "2             502   42       8  ...                0.0            1.0          0.0\n",
              "3             699   39       1  ...                0.0            1.0          0.0\n",
              "4             850   43       2  ...                0.0            1.0          0.0\n",
              "...           ...  ...     ...  ...                ...            ...          ...\n",
              "9995          771   39       5  ...                0.0            0.0          1.0\n",
              "9996          516   35      10  ...                0.0            0.0          1.0\n",
              "9997          709   36       7  ...                0.0            1.0          0.0\n",
              "9998          772   42       3  ...                1.0            0.0          1.0\n",
              "9999          792   28       4  ...                0.0            1.0          0.0\n",
              "\n",
              "[10000 rows x 14 columns]"
            ]
          },
          "metadata": {},
          "execution_count": 14
        }
      ]
    },
    {
      "cell_type": "markdown",
      "metadata": {
        "id": "lzS_PlJoCoh8"
      },
      "source": [
        "#### **Preparing XY for Model**"
      ]
    },
    {
      "cell_type": "code",
      "metadata": {
        "colab": {
          "base_uri": "https://localhost:8080/",
          "height": 444
        },
        "id": "UparP-rjK8GP",
        "outputId": "6c863be4-4dbc-4f78-a1e6-d78d9c46742f"
      },
      "source": [
        "df_prep"
      ],
      "execution_count": null,
      "outputs": [
        {
          "output_type": "execute_result",
          "data": {
            "text/html": [
              "<div>\n",
              "<style scoped>\n",
              "    .dataframe tbody tr th:only-of-type {\n",
              "        vertical-align: middle;\n",
              "    }\n",
              "\n",
              "    .dataframe tbody tr th {\n",
              "        vertical-align: top;\n",
              "    }\n",
              "\n",
              "    .dataframe thead th {\n",
              "        text-align: right;\n",
              "    }\n",
              "</style>\n",
              "<table border=\"1\" class=\"dataframe\">\n",
              "  <thead>\n",
              "    <tr style=\"text-align: right;\">\n",
              "      <th></th>\n",
              "      <th>CreditScore</th>\n",
              "      <th>Age</th>\n",
              "      <th>Tenure</th>\n",
              "      <th>Balance</th>\n",
              "      <th>NumOfProducts</th>\n",
              "      <th>HasCrCard</th>\n",
              "      <th>IsActiveMember</th>\n",
              "      <th>EstimatedSalary</th>\n",
              "      <th>Exited</th>\n",
              "      <th>Balance_binary</th>\n",
              "      <th>Geography_France</th>\n",
              "      <th>Geography_Spain</th>\n",
              "      <th>Geography_Germany</th>\n",
              "      <th>Gender_Female</th>\n",
              "      <th>Gender_Male</th>\n",
              "    </tr>\n",
              "  </thead>\n",
              "  <tbody>\n",
              "    <tr>\n",
              "      <th>0</th>\n",
              "      <td>619</td>\n",
              "      <td>42</td>\n",
              "      <td>2</td>\n",
              "      <td>0.00</td>\n",
              "      <td>1</td>\n",
              "      <td>1</td>\n",
              "      <td>1</td>\n",
              "      <td>101348.88</td>\n",
              "      <td>1</td>\n",
              "      <td>0.0</td>\n",
              "      <td>1.0</td>\n",
              "      <td>0.0</td>\n",
              "      <td>0.0</td>\n",
              "      <td>1.0</td>\n",
              "      <td>0.0</td>\n",
              "    </tr>\n",
              "    <tr>\n",
              "      <th>1</th>\n",
              "      <td>608</td>\n",
              "      <td>41</td>\n",
              "      <td>1</td>\n",
              "      <td>83807.86</td>\n",
              "      <td>1</td>\n",
              "      <td>0</td>\n",
              "      <td>1</td>\n",
              "      <td>112542.58</td>\n",
              "      <td>0</td>\n",
              "      <td>1.0</td>\n",
              "      <td>0.0</td>\n",
              "      <td>1.0</td>\n",
              "      <td>0.0</td>\n",
              "      <td>1.0</td>\n",
              "      <td>0.0</td>\n",
              "    </tr>\n",
              "    <tr>\n",
              "      <th>2</th>\n",
              "      <td>502</td>\n",
              "      <td>42</td>\n",
              "      <td>8</td>\n",
              "      <td>159660.80</td>\n",
              "      <td>3</td>\n",
              "      <td>1</td>\n",
              "      <td>0</td>\n",
              "      <td>113931.57</td>\n",
              "      <td>1</td>\n",
              "      <td>1.0</td>\n",
              "      <td>1.0</td>\n",
              "      <td>0.0</td>\n",
              "      <td>0.0</td>\n",
              "      <td>1.0</td>\n",
              "      <td>0.0</td>\n",
              "    </tr>\n",
              "    <tr>\n",
              "      <th>3</th>\n",
              "      <td>699</td>\n",
              "      <td>39</td>\n",
              "      <td>1</td>\n",
              "      <td>0.00</td>\n",
              "      <td>2</td>\n",
              "      <td>0</td>\n",
              "      <td>0</td>\n",
              "      <td>93826.63</td>\n",
              "      <td>0</td>\n",
              "      <td>0.0</td>\n",
              "      <td>1.0</td>\n",
              "      <td>0.0</td>\n",
              "      <td>0.0</td>\n",
              "      <td>1.0</td>\n",
              "      <td>0.0</td>\n",
              "    </tr>\n",
              "    <tr>\n",
              "      <th>4</th>\n",
              "      <td>850</td>\n",
              "      <td>43</td>\n",
              "      <td>2</td>\n",
              "      <td>125510.82</td>\n",
              "      <td>1</td>\n",
              "      <td>1</td>\n",
              "      <td>1</td>\n",
              "      <td>79084.10</td>\n",
              "      <td>0</td>\n",
              "      <td>1.0</td>\n",
              "      <td>0.0</td>\n",
              "      <td>1.0</td>\n",
              "      <td>0.0</td>\n",
              "      <td>1.0</td>\n",
              "      <td>0.0</td>\n",
              "    </tr>\n",
              "    <tr>\n",
              "      <th>...</th>\n",
              "      <td>...</td>\n",
              "      <td>...</td>\n",
              "      <td>...</td>\n",
              "      <td>...</td>\n",
              "      <td>...</td>\n",
              "      <td>...</td>\n",
              "      <td>...</td>\n",
              "      <td>...</td>\n",
              "      <td>...</td>\n",
              "      <td>...</td>\n",
              "      <td>...</td>\n",
              "      <td>...</td>\n",
              "      <td>...</td>\n",
              "      <td>...</td>\n",
              "      <td>...</td>\n",
              "    </tr>\n",
              "    <tr>\n",
              "      <th>9995</th>\n",
              "      <td>771</td>\n",
              "      <td>39</td>\n",
              "      <td>5</td>\n",
              "      <td>0.00</td>\n",
              "      <td>2</td>\n",
              "      <td>1</td>\n",
              "      <td>0</td>\n",
              "      <td>96270.64</td>\n",
              "      <td>0</td>\n",
              "      <td>0.0</td>\n",
              "      <td>1.0</td>\n",
              "      <td>0.0</td>\n",
              "      <td>0.0</td>\n",
              "      <td>0.0</td>\n",
              "      <td>1.0</td>\n",
              "    </tr>\n",
              "    <tr>\n",
              "      <th>9996</th>\n",
              "      <td>516</td>\n",
              "      <td>35</td>\n",
              "      <td>10</td>\n",
              "      <td>57369.61</td>\n",
              "      <td>1</td>\n",
              "      <td>1</td>\n",
              "      <td>1</td>\n",
              "      <td>101699.77</td>\n",
              "      <td>0</td>\n",
              "      <td>1.0</td>\n",
              "      <td>1.0</td>\n",
              "      <td>0.0</td>\n",
              "      <td>0.0</td>\n",
              "      <td>0.0</td>\n",
              "      <td>1.0</td>\n",
              "    </tr>\n",
              "    <tr>\n",
              "      <th>9997</th>\n",
              "      <td>709</td>\n",
              "      <td>36</td>\n",
              "      <td>7</td>\n",
              "      <td>0.00</td>\n",
              "      <td>1</td>\n",
              "      <td>0</td>\n",
              "      <td>1</td>\n",
              "      <td>42085.58</td>\n",
              "      <td>1</td>\n",
              "      <td>0.0</td>\n",
              "      <td>1.0</td>\n",
              "      <td>0.0</td>\n",
              "      <td>0.0</td>\n",
              "      <td>1.0</td>\n",
              "      <td>0.0</td>\n",
              "    </tr>\n",
              "    <tr>\n",
              "      <th>9998</th>\n",
              "      <td>772</td>\n",
              "      <td>42</td>\n",
              "      <td>3</td>\n",
              "      <td>75075.31</td>\n",
              "      <td>2</td>\n",
              "      <td>1</td>\n",
              "      <td>0</td>\n",
              "      <td>92888.52</td>\n",
              "      <td>1</td>\n",
              "      <td>1.0</td>\n",
              "      <td>0.0</td>\n",
              "      <td>0.0</td>\n",
              "      <td>1.0</td>\n",
              "      <td>0.0</td>\n",
              "      <td>1.0</td>\n",
              "    </tr>\n",
              "    <tr>\n",
              "      <th>9999</th>\n",
              "      <td>792</td>\n",
              "      <td>28</td>\n",
              "      <td>4</td>\n",
              "      <td>130142.79</td>\n",
              "      <td>1</td>\n",
              "      <td>1</td>\n",
              "      <td>0</td>\n",
              "      <td>38190.78</td>\n",
              "      <td>0</td>\n",
              "      <td>1.0</td>\n",
              "      <td>1.0</td>\n",
              "      <td>0.0</td>\n",
              "      <td>0.0</td>\n",
              "      <td>1.0</td>\n",
              "      <td>0.0</td>\n",
              "    </tr>\n",
              "  </tbody>\n",
              "</table>\n",
              "<p>10000 rows × 15 columns</p>\n",
              "</div>"
            ],
            "text/plain": [
              "      CreditScore  Age  Tenure  ...  Geography_Germany  Gender_Female  Gender_Male\n",
              "0             619   42       2  ...                0.0            1.0          0.0\n",
              "1             608   41       1  ...                0.0            1.0          0.0\n",
              "2             502   42       8  ...                0.0            1.0          0.0\n",
              "3             699   39       1  ...                0.0            1.0          0.0\n",
              "4             850   43       2  ...                0.0            1.0          0.0\n",
              "...           ...  ...     ...  ...                ...            ...          ...\n",
              "9995          771   39       5  ...                0.0            0.0          1.0\n",
              "9996          516   35      10  ...                0.0            0.0          1.0\n",
              "9997          709   36       7  ...                0.0            1.0          0.0\n",
              "9998          772   42       3  ...                1.0            0.0          1.0\n",
              "9999          792   28       4  ...                0.0            1.0          0.0\n",
              "\n",
              "[10000 rows x 15 columns]"
            ]
          },
          "metadata": {},
          "execution_count": 97
        }
      ]
    },
    {
      "cell_type": "code",
      "metadata": {
        "id": "tRFprPDVCnko"
      },
      "source": [
        "X = df_prep.drop(columns=['Exited'])\n",
        "y = df_prep['Exited']"
      ],
      "execution_count": null,
      "outputs": []
    },
    {
      "cell_type": "markdown",
      "metadata": {
        "id": "qH1_GGmdZ1Me"
      },
      "source": [
        "####**Imbalance Handling**"
      ]
    },
    {
      "cell_type": "code",
      "metadata": {
        "id": "3j9CKpRJYRVn"
      },
      "source": [
        "from sklearn.model_selection import train_test_split as tts\n",
        "X_train, X_test, y_train, y_test = tts(X, y, test_size=0.2, random_state=123)"
      ],
      "execution_count": null,
      "outputs": []
    },
    {
      "cell_type": "code",
      "metadata": {
        "colab": {
          "base_uri": "https://localhost:8080/",
          "height": 437
        },
        "id": "vxEbFdujYPvs",
        "outputId": "5250017d-1e6b-45fd-ecad-2d80c302b251"
      },
      "source": [
        "fig = plt.figure(figsize=(7,6))\n",
        "y.value_counts().plot(kind='bar')\n",
        "plt.xticks([0,1],['No','Yes'], rotation=0)\n",
        "plt.title('Summary of Customer Churn', fontweight='bold', fontsize=15)\n",
        "plt.ylabel('Banyak Data')\n",
        "plt.tight_layout()\n",
        "plt.show()"
      ],
      "execution_count": null,
      "outputs": [
        {
          "output_type": "display_data",
          "data": {
            "image/png": "[encoded data removed]",
            "text/plain": [
              "<Figure size 504x432 with 1 Axes>"
            ]
          },
          "metadata": {}
        }
      ]
    },
    {
      "cell_type": "code",
      "metadata": {
        "id": "5Du4C6-NZwV_"
      },
      "source": [
        "from imblearn.over_sampling import SMOTE\n",
        "smote = SMOTE(sampling_strategy = 1)\n",
        "X_smote, y_smote = smote.fit_resample(X_train,y_train)"
      ],
      "execution_count": null,
      "outputs": []
    },
    {
      "cell_type": "code",
      "metadata": {
        "id": "KqFwRlEXZyTo",
        "colab": {
          "base_uri": "https://localhost:8080/",
          "height": 437
        },
        "outputId": "bb455ea7-9a0f-4bc7-b39f-477809b42dc2"
      },
      "source": [
        "fig = plt.figure(figsize=(7,6))\n",
        "y_smote.value_counts().plot(kind='bar')\n",
        "plt.xticks([0,1],['No','Yes'], rotation=0)\n",
        "plt.title('Summary of Customer Churn', fontweight='bold', fontsize=15)\n",
        "plt.ylabel('Banyak Data')\n",
        "plt.tight_layout()\n",
        "plt.show()"
      ],
      "execution_count": null,
      "outputs": [
        {
          "output_type": "display_data",
          "data": {
            "image/png": "[encoded data removed]",
            "text/plain": [
              "<Figure size 504x432 with 1 Axes>"
            ]
          },
          "metadata": {}
        }
      ]
    },
    {
      "cell_type": "markdown",
      "metadata": {
        "id": "-tgv8Ng3XWs0"
      },
      "source": [
        "#### **Scaling**"
      ]
    },
    {
      "cell_type": "code",
      "metadata": {
        "id": "i5lsPsNiaKvp"
      },
      "source": [
        "# standard scaler all columns\n",
        "# fit scaler to train data only\n",
        "# kenapa pakai ini\n",
        "\n",
        "from sklearn.preprocessing import StandardScaler, MinMaxScaler, RobustScaler, MaxAbsScaler, QuantileTransformer\n",
        "scaler = MinMaxScaler()\n",
        "# y = np.array(df_encode['Balance']).reshape(-1,1)\n",
        "columns = list(X_smote.columns)\n",
        "scaler.fit(X_smote[columns])\n",
        "\n",
        "X_smote_scaled = scaler.transform(X_smote)\n",
        "X_test_scaled = scaler.transform(X_test)"
      ],
      "execution_count": null,
      "outputs": []
    },
    {
      "cell_type": "code",
      "metadata": {
        "id": "aUFT-NpxaT7J"
      },
      "source": [
        "X_smote[columns] = X_smote_scaled\n",
        "X_test[columns] = X_test_scaled"
      ],
      "execution_count": null,
      "outputs": []
    },
    {
      "cell_type": "code",
      "metadata": {
        "colab": {
          "base_uri": "https://localhost:8080/",
          "height": 206
        },
        "id": "XREr7zf-houQ",
        "outputId": "a725bd2f-8fd8-4d08-f841-d61fad799509"
      },
      "source": [
        "X_smote.head()"
      ],
      "execution_count": null,
      "outputs": [
        {
          "output_type": "execute_result",
          "data": {
            "text/html": [
              "<div>\n",
              "<style scoped>\n",
              "    .dataframe tbody tr th:only-of-type {\n",
              "        vertical-align: middle;\n",
              "    }\n",
              "\n",
              "    .dataframe tbody tr th {\n",
              "        vertical-align: top;\n",
              "    }\n",
              "\n",
              "    .dataframe thead th {\n",
              "        text-align: right;\n",
              "    }\n",
              "</style>\n",
              "<table border=\"1\" class=\"dataframe\">\n",
              "  <thead>\n",
              "    <tr style=\"text-align: right;\">\n",
              "      <th></th>\n",
              "      <th>CreditScore</th>\n",
              "      <th>Age</th>\n",
              "      <th>Tenure</th>\n",
              "      <th>Balance</th>\n",
              "      <th>NumOfProducts</th>\n",
              "      <th>HasCrCard</th>\n",
              "      <th>IsActiveMember</th>\n",
              "      <th>EstimatedSalary</th>\n",
              "      <th>Geography_France</th>\n",
              "      <th>Geography_Spain</th>\n",
              "      <th>Geography_Germany</th>\n",
              "      <th>Gender_Female</th>\n",
              "      <th>Gender_Male</th>\n",
              "    </tr>\n",
              "  </thead>\n",
              "  <tbody>\n",
              "    <tr>\n",
              "      <th>0</th>\n",
              "      <td>0.730193</td>\n",
              "      <td>0.272727</td>\n",
              "      <td>1.0</td>\n",
              "      <td>0.000000</td>\n",
              "      <td>0.333333</td>\n",
              "      <td>1.0</td>\n",
              "      <td>1.0</td>\n",
              "      <td>0.271296</td>\n",
              "      <td>1.0</td>\n",
              "      <td>0.0</td>\n",
              "      <td>0.0</td>\n",
              "      <td>0.0</td>\n",
              "      <td>1.0</td>\n",
              "    </tr>\n",
              "    <tr>\n",
              "      <th>1</th>\n",
              "      <td>0.479657</td>\n",
              "      <td>0.477273</td>\n",
              "      <td>1.0</td>\n",
              "      <td>0.000000</td>\n",
              "      <td>0.666667</td>\n",
              "      <td>1.0</td>\n",
              "      <td>0.0</td>\n",
              "      <td>0.663711</td>\n",
              "      <td>1.0</td>\n",
              "      <td>0.0</td>\n",
              "      <td>0.0</td>\n",
              "      <td>1.0</td>\n",
              "      <td>0.0</td>\n",
              "    </tr>\n",
              "    <tr>\n",
              "      <th>2</th>\n",
              "      <td>0.858672</td>\n",
              "      <td>0.386364</td>\n",
              "      <td>0.3</td>\n",
              "      <td>0.000000</td>\n",
              "      <td>0.333333</td>\n",
              "      <td>0.0</td>\n",
              "      <td>0.0</td>\n",
              "      <td>0.407399</td>\n",
              "      <td>0.0</td>\n",
              "      <td>1.0</td>\n",
              "      <td>0.0</td>\n",
              "      <td>0.0</td>\n",
              "      <td>1.0</td>\n",
              "    </tr>\n",
              "    <tr>\n",
              "      <th>3</th>\n",
              "      <td>0.665953</td>\n",
              "      <td>0.500000</td>\n",
              "      <td>0.9</td>\n",
              "      <td>0.000000</td>\n",
              "      <td>0.333333</td>\n",
              "      <td>1.0</td>\n",
              "      <td>0.0</td>\n",
              "      <td>0.202277</td>\n",
              "      <td>1.0</td>\n",
              "      <td>0.0</td>\n",
              "      <td>0.0</td>\n",
              "      <td>0.0</td>\n",
              "      <td>1.0</td>\n",
              "    </tr>\n",
              "    <tr>\n",
              "      <th>4</th>\n",
              "      <td>0.689507</td>\n",
              "      <td>0.340909</td>\n",
              "      <td>0.3</td>\n",
              "      <td>0.575644</td>\n",
              "      <td>0.333333</td>\n",
              "      <td>1.0</td>\n",
              "      <td>0.0</td>\n",
              "      <td>0.569222</td>\n",
              "      <td>1.0</td>\n",
              "      <td>0.0</td>\n",
              "      <td>0.0</td>\n",
              "      <td>0.0</td>\n",
              "      <td>1.0</td>\n",
              "    </tr>\n",
              "  </tbody>\n",
              "</table>\n",
              "</div>"
            ],
            "text/plain": [
              "   CreditScore       Age  Tenure  ...  Geography_Germany  Gender_Female  Gender_Male\n",
              "0     0.730193  0.272727     1.0  ...                0.0            0.0          1.0\n",
              "1     0.479657  0.477273     1.0  ...                0.0            1.0          0.0\n",
              "2     0.858672  0.386364     0.3  ...                0.0            0.0          1.0\n",
              "3     0.665953  0.500000     0.9  ...                0.0            0.0          1.0\n",
              "4     0.689507  0.340909     0.3  ...                0.0            0.0          1.0\n",
              "\n",
              "[5 rows x 13 columns]"
            ]
          },
          "metadata": {},
          "execution_count": 23
        }
      ]
    },
    {
      "cell_type": "code",
      "metadata": {
        "id": "iBjAMwk8aXnG",
        "colab": {
          "base_uri": "https://localhost:8080/"
        },
        "outputId": "7c67fa60-be55-4ea4-c737-5a2f4651c850"
      },
      "source": [
        "y_smote.value_counts()"
      ],
      "execution_count": null,
      "outputs": [
        {
          "output_type": "execute_result",
          "data": {
            "text/plain": [
              "1    6377\n",
              "0    6377\n",
              "Name: Exited, dtype: int64"
            ]
          },
          "metadata": {},
          "execution_count": 24
        }
      ]
    },
    {
      "cell_type": "markdown",
      "metadata": {
        "id": "6AaWwtBGabi-"
      },
      "source": [
        "### **Modeling**"
      ]
    },
    {
      "cell_type": "code",
      "metadata": {
        "id": "D_nTMRliZsTm"
      },
      "source": [
        "from sklearn.model_selection import GridSearchCV\n",
        "from sklearn.ensemble import RandomForestClassifier\n",
        "from xgboost import XGBClassifier\n",
        "from sklearn.metrics import roc_auc_score, accuracy_score, confusion_matrix, classification_report, precision_score, recall_score, f1_score"
      ],
      "execution_count": null,
      "outputs": []
    },
    {
      "cell_type": "markdown",
      "metadata": {
        "id": "89-s3TEhDjb7"
      },
      "source": [
        "#### **Training with Default Parameters**"
      ]
    },
    {
      "cell_type": "markdown",
      "metadata": {
        "id": "6MPdLFpeD6vt"
      },
      "source": [
        "##### **RandomForest**"
      ]
    },
    {
      "cell_type": "code",
      "metadata": {
        "colab": {
          "base_uri": "https://localhost:8080/"
        },
        "id": "DvzWgGM2D0jL",
        "outputId": "839a09c3-aad5-4b30-a221-4f56f88459aa"
      },
      "source": [
        "#RandomForest\n",
        "rf = RandomForestClassifier()\n",
        "rf.fit(X_smote, y_smote)"
      ],
      "execution_count": null,
      "outputs": [
        {
          "output_type": "execute_result",
          "data": {
            "text/plain": [
              "RandomForestClassifier()"
            ]
          },
          "metadata": {},
          "execution_count": 26
        }
      ]
    },
    {
      "cell_type": "markdown",
      "metadata": {
        "id": "cDM7PLwvEOIV"
      },
      "source": [
        "##### **XGBoost**"
      ]
    },
    {
      "cell_type": "code",
      "metadata": {
        "colab": {
          "base_uri": "https://localhost:8080/"
        },
        "id": "Q12nq8v0EZOi",
        "outputId": "0a706f7d-ea46-4138-863a-c4368b911b09"
      },
      "source": [
        "#XGBoost\n",
        "xgb = XGBClassifier()\n",
        "xgb.fit(X_smote, y_smote)"
      ],
      "execution_count": null,
      "outputs": [
        {
          "output_type": "execute_result",
          "data": {
            "text/plain": [
              "XGBClassifier()"
            ]
          },
          "metadata": {},
          "execution_count": 27
        }
      ]
    },
    {
      "cell_type": "markdown",
      "metadata": {
        "id": "3l37MMXPD-JQ"
      },
      "source": [
        "##### **Training**"
      ]
    },
    {
      "cell_type": "code",
      "metadata": {
        "colab": {
          "base_uri": "https://localhost:8080/"
        },
        "id": "F7wkEQ0kPbUG",
        "outputId": "849926fd-d717-4680-ca05-e31c1cebf612"
      },
      "source": [
        "import time\n",
        "from sklearn import metrics\n",
        "\n",
        "perf_without_params = []\n",
        "models_without_params = []\n",
        "models_without_params.append(['Random Forest Classifier', rf])\n",
        "models_without_params.append(['XGBoost Classifier', xgb])\n",
        "\n",
        "for i, v in models_without_params:\n",
        "    start_time = time.time()\n",
        "    accuracy = metrics.accuracy_score(y_smote, v.predict(X_smote))\n",
        "    auc = roc_auc_score(y_smote, v.predict_proba(X_smote)[:,1])\n",
        "    confusion_matrix = metrics.confusion_matrix(y_smote, v.predict(X_smote))\n",
        "    classification = metrics.classification_report(y_smote, v.predict(X_smote))\n",
        "    f1_score = metrics.f1_score(y_smote, v.predict(X_smote))\n",
        "    end_time = time.time()\n",
        "    final_time = end_time - start_time\n",
        "    perf_without_params.append([i, f1_score, accuracy, final_time])\n",
        "\n",
        "    print()\n",
        "    print('============================== {} Model Evaluation Without Tuning =============================='.format(i))\n",
        "    print()\n",
        "    print(\"Model Accuracy:\" \"\\n\", accuracy)\n",
        "    print()\n",
        "    print(\"F1 Score:\" \"\\n\", f1_score)\n",
        "    print()\n",
        "    print(\"Confusion matrix:\" \"\\n\", confusion_matrix)\n",
        "    print()\n",
        "    print(\"Classification report:\" \"\\n\", classification) \n",
        "    print()\n",
        "    print(\"AUC Score :\" \"\\n\", auc)\n",
        "    print()\n",
        "    print('============================== Lama Training: {} =============================='.format(final_time))"
      ],
      "execution_count": null,
      "outputs": [
        {
          "output_type": "stream",
          "name": "stdout",
          "text": [
            "\n",
            "============================== Random Forest Classifier Model Evaluation Without Tuning ==============================\n",
            "\n",
            "Model Accuracy:\n",
            " 0.9999215932256547\n",
            "\n",
            "F1 Score:\n",
            " 0.999921599372795\n",
            "\n",
            "Confusion matrix:\n",
            " [[6376    1]\n",
            " [   0 6377]]\n",
            "\n",
            "Classification report:\n",
            "               precision    recall  f1-score   support\n",
            "\n",
            "           0       1.00      1.00      1.00      6377\n",
            "           1       1.00      1.00      1.00      6377\n",
            "\n",
            "    accuracy                           1.00     12754\n",
            "   macro avg       1.00      1.00      1.00     12754\n",
            "weighted avg       1.00      1.00      1.00     12754\n",
            "\n",
            "\n",
            "AUC Score :\n",
            " 1.0\n",
            "============================== Lama Training: 1.0252423286437988 ==============================\n",
            "\n",
            "============================== XGBoost Classifier Model Evaluation Without Tuning ==============================\n",
            "\n",
            "Model Accuracy:\n",
            " 0.8858397365532382\n",
            "\n",
            "F1 Score:\n",
            " 0.8816452609331816\n",
            "\n",
            "Confusion matrix:\n",
            " [[5875  502]\n",
            " [ 954 5423]]\n",
            "\n",
            "Classification report:\n",
            "               precision    recall  f1-score   support\n",
            "\n",
            "           0       0.86      0.92      0.89      6377\n",
            "           1       0.92      0.85      0.88      6377\n",
            "\n",
            "    accuracy                           0.89     12754\n",
            "   macro avg       0.89      0.89      0.89     12754\n",
            "weighted avg       0.89      0.89      0.89     12754\n",
            "\n",
            "\n",
            "AUC Score :\n",
            " 0.9538436520476292\n",
            "============================== Lama Training: 0.24031519889831543 ==============================\n"
          ]
        }
      ]
    },
    {
      "cell_type": "markdown",
      "metadata": {
        "id": "yE65CZDMGlzl"
      },
      "source": [
        "##### **Testing**"
      ]
    },
    {
      "cell_type": "code",
      "metadata": {
        "colab": {
          "base_uri": "https://localhost:8080/"
        },
        "id": "CfL6tZ_9RtEH",
        "outputId": "ea54c75b-15f3-48a1-bc94-749d6581c85c"
      },
      "source": [
        "import time\n",
        "from sklearn import metrics\n",
        "\n",
        "for i, v in models_without_params:\n",
        "    start_time = time.time()\n",
        "    accuracy = metrics.accuracy_score(y_test, v.predict(X_test))\n",
        "    auc = roc_auc_score(y_test, v.predict_proba(X_test)[:,1])\n",
        "    confusion_matrix = metrics.confusion_matrix(y_test, v.predict(X_test))\n",
        "    classification = metrics.classification_report(y_test, v.predict(X_test))\n",
        "    f1_score = metrics.f1_score(y_test, v.predict(X_test))\n",
        "    end_time = time.time()\n",
        "    final_time = end_time - start_time\n",
        "    perf_without_params.append([i,f1_score, accuracy, final_time])\n",
        "\n",
        "    print()\n",
        "    print('============================== {} Model Evaluation Without Tuning =============================='.format(i))\n",
        "    print()\n",
        "    print(\"Model Accuracy:\" \"\\n\", accuracy)\n",
        "    print()\n",
        "    print(\"F1 Score:\" \"\\n\", f1_score)\n",
        "    print()\n",
        "    print(\"Confusion matrix:\" \"\\n\", confusion_matrix)\n",
        "    print()\n",
        "    print(\"Classification report:\" \"\\n\", classification) \n",
        "    print()\n",
        "    print(\"AUC Score :\" \"\\n\", auc)\n",
        "    print()\n",
        "    print('============================== Lama Training: {} =============================='.format(final_time))"
      ],
      "execution_count": null,
      "outputs": [
        {
          "output_type": "stream",
          "name": "stdout",
          "text": [
            "\n",
            "============================== Random Forest Classifier Model Evaluation Without Tuning ==============================\n",
            "\n",
            "Model Accuracy:\n",
            " 0.8485\n",
            "\n",
            "F1 Score:\n",
            " 0.5866302864938607\n",
            "\n",
            "Confusion matrix:\n",
            " [[1482  104]\n",
            " [ 199  215]]\n",
            "\n",
            "Classification report:\n",
            "               precision    recall  f1-score   support\n",
            "\n",
            "           0       0.88      0.93      0.91      1586\n",
            "           1       0.67      0.52      0.59       414\n",
            "\n",
            "    accuracy                           0.85      2000\n",
            "   macro avg       0.78      0.73      0.75      2000\n",
            "weighted avg       0.84      0.85      0.84      2000\n",
            "\n",
            "\n",
            "AUC Score :\n",
            " 0.8416328563334978\n",
            "\n",
            "============================== Lama Training: 0.2976069450378418 ==============================\n",
            "\n",
            "============================== XGBoost Classifier Model Evaluation Without Tuning ==============================\n",
            "\n",
            "Model Accuracy:\n",
            " 0.856\n",
            "\n",
            "F1 Score:\n",
            " 0.6363636363636365\n",
            "\n",
            "Confusion matrix:\n",
            " [[1460  126]\n",
            " [ 162  252]]\n",
            "\n",
            "Classification report:\n",
            "               precision    recall  f1-score   support\n",
            "\n",
            "           0       0.90      0.92      0.91      1586\n",
            "           1       0.67      0.61      0.64       414\n",
            "\n",
            "    accuracy                           0.86      2000\n",
            "   macro avg       0.78      0.76      0.77      2000\n",
            "weighted avg       0.85      0.86      0.85      2000\n",
            "\n",
            "\n",
            "AUC Score :\n",
            " 0.8757127583749109\n",
            "\n",
            "============================== Lama Training: 0.05107450485229492 ==============================\n"
          ]
        }
      ]
    },
    {
      "cell_type": "code",
      "metadata": {
        "colab": {
          "base_uri": "https://localhost:8080/"
        },
        "id": "V1AARBG7IQQT",
        "outputId": "d1feba8d-312b-4c68-8395-7e8521bbe7b1"
      },
      "source": [
        "pd.DataFrame(perf_without_params)"
      ],
      "execution_count": null,
      "outputs": [
        {
          "output_type": "execute_result",
          "data": {
            "text/html": [
              "<div>\n",
              "<style scoped>\n",
              "    .dataframe tbody tr th:only-of-type {\n",
              "        vertical-align: middle;\n",
              "    }\n",
              "\n",
              "    .dataframe tbody tr th {\n",
              "        vertical-align: top;\n",
              "    }\n",
              "\n",
              "    .dataframe thead th {\n",
              "        text-align: right;\n",
              "    }\n",
              "</style>\n",
              "<table border=\"1\" class=\"dataframe\">\n",
              "  <thead>\n",
              "    <tr style=\"text-align: right;\">\n",
              "      <th></th>\n",
              "      <th>0</th>\n",
              "      <th>1</th>\n",
              "      <th>2</th>\n",
              "      <th>3</th>\n",
              "    </tr>\n",
              "  </thead>\n",
              "  <tbody>\n",
              "    <tr>\n",
              "      <th>0</th>\n",
              "      <td>Random Forest Classifier</td>\n",
              "      <td>1.000000</td>\n",
              "      <td>1.000000</td>\n",
              "      <td>0.819040</td>\n",
              "    </tr>\n",
              "    <tr>\n",
              "      <th>1</th>\n",
              "      <td>XGBoost Classifier</td>\n",
              "      <td>0.883218</td>\n",
              "      <td>0.887329</td>\n",
              "      <td>0.190053</td>\n",
              "    </tr>\n",
              "    <tr>\n",
              "      <th>2</th>\n",
              "      <td>Random Forest Classifier</td>\n",
              "      <td>0.604278</td>\n",
              "      <td>0.852000</td>\n",
              "      <td>0.237223</td>\n",
              "    </tr>\n",
              "    <tr>\n",
              "      <th>3</th>\n",
              "      <td>XGBoost Classifier</td>\n",
              "      <td>0.631043</td>\n",
              "      <td>0.855000</td>\n",
              "      <td>0.049525</td>\n",
              "    </tr>\n",
              "  </tbody>\n",
              "</table>\n",
              "</div>"
            ],
            "text/plain": [
              "                          0         1         2         3\n",
              "0  Random Forest Classifier  1.000000  1.000000  0.819040\n",
              "1        XGBoost Classifier  0.883218  0.887329  0.190053\n",
              "2  Random Forest Classifier  0.604278  0.852000  0.237223\n",
              "3        XGBoost Classifier  0.631043  0.855000  0.049525"
            ]
          },
          "metadata": {},
          "execution_count": 145
        }
      ]
    },
    {
      "cell_type": "markdown",
      "metadata": {
        "id": "wvDHQByJDgtJ"
      },
      "source": [
        "#### **Finding Best Parameters**"
      ]
    },
    {
      "cell_type": "markdown",
      "metadata": {
        "id": "HMSTF0uAFCKl"
      },
      "source": [
        "##### **RandomForest**"
      ]
    },
    {
      "cell_type": "code",
      "metadata": {
        "id": "reQT0kXNarvz",
        "colab": {
          "base_uri": "https://localhost:8080/"
        },
        "outputId": "d3b44be0-ddaf-487d-e2fe-8e7f5d7ff8ff"
      },
      "source": [
        "rfc = RandomForestClassifier()\n",
        "param_grid = {\n",
        "    n_estimators=[100, 200, 300],\n",
        "    criterion=['gini', 'entropy'],\n",
        "    max_depth=range(5,16)\n",
        "}\n",
        "RF_Classifier = GridSearchCV(rfc, param_grid, cv=10, scoring='f1_micro', \n",
        "                             return_train_score=False)\n",
        "RF_Classifier.fit(X_smote, y_smote)\n",
        "\n",
        "print('parameter ',RF_Classifier.best_params_)\n",
        "print('f1_micro ',RF_Classifier.best_score_)"
      ],
      "execution_count": null,
      "outputs": [
        {
          "output_type": "stream",
          "name": "stdout",
          "text": [
            "parameter  {'criterion': 'gini', 'max_depth': 15, 'n_estimators': 200}\n",
            "akurasi  0.8949588788493454\n"
          ]
        }
      ]
    },
    {
      "cell_type": "markdown",
      "metadata": {
        "id": "JKoNygl6FFO6"
      },
      "source": [
        "##### **XGBoost**"
      ]
    },
    {
      "cell_type": "code",
      "metadata": {
        "id": "sMXvCHrJZ9EX",
        "colab": {
          "base_uri": "https://localhost:8080/"
        },
        "outputId": "e464a8c2-b638-462e-84c7-7a8d540ba0a3"
      },
      "source": [
        "# XGBoost\n",
        "xgb = XGBClassifier()\n",
        "param_grid = {\n",
        "    'n_estimators':[100, 200, 300, 400, 500],\n",
        "    'min_child_weight':range(1,11),\n",
        "    'gamma':[1, 2]\n",
        "}\n",
        "XGB_Classifier = GridSearchCV(xgb, param_grid, cv=10, scoring='f1_micro', \n",
        "                              return_train_score=False)\n",
        "XGB_Classifier.fit(X_smote, y_smote)\n",
        "\n",
        "print('parameter ',XGB_Classifier.best_params_)\n",
        "print('f1_micro ',XGB_Classifier.best_score_)"
      ],
      "execution_count": null,
      "outputs": [
        {
          "output_type": "stream",
          "name": "stdout",
          "text": [
            "parameter  {'gamma': 1, 'min_child_weight': 2, 'n_estimators': 500}\n",
            "f1_micro  0.8854702194357367\n"
          ]
        }
      ]
    },
    {
      "cell_type": "markdown",
      "metadata": {
        "id": "T35zwMIDFNfQ"
      },
      "source": [
        "#### **Training with Best Parameters**"
      ]
    },
    {
      "cell_type": "markdown",
      "metadata": {
        "id": "W75O8igvFm8M"
      },
      "source": [
        "##### **RandomForest**"
      ]
    },
    {
      "cell_type": "code",
      "metadata": {
        "colab": {
          "base_uri": "https://localhost:8080/"
        },
        "id": "Fc38h5aJFdD3",
        "outputId": "27493f53-847d-44da-ef7e-dca6534c1eaa"
      },
      "source": [
        "rf_tuned = RandomForestClassifier(criterion='gini', n_estimators=200, max_depth=15)\n",
        "rf_tuned.fit(X_smote, y_smote)"
      ],
      "execution_count": null,
      "outputs": [
        {
          "output_type": "execute_result",
          "data": {
            "text/plain": [
              "RandomForestClassifier(max_depth=15, n_estimators=200)"
            ]
          },
          "metadata": {},
          "execution_count": 35
        }
      ]
    },
    {
      "cell_type": "markdown",
      "metadata": {
        "id": "JCbF7Ku_Fp7Y"
      },
      "source": [
        "##### **XGBoost**"
      ]
    },
    {
      "cell_type": "code",
      "metadata": {
        "colab": {
          "base_uri": "https://localhost:8080/"
        },
        "id": "cYTI8wxGFlfd",
        "outputId": "2e7a5cf0-1595-4110-8292-df0320d453dc"
      },
      "source": [
        "xgb_tuned = XGBClassifier(gamma=1, min_child_weight=2, n_estimators=500)\n",
        "xgb_tuned.fit(X_smote, y_smote)"
      ],
      "execution_count": null,
      "outputs": [
        {
          "output_type": "execute_result",
          "data": {
            "text/plain": [
              "XGBClassifier(gamma=1, min_child_weight=2, n_estimators=500)"
            ]
          },
          "metadata": {},
          "execution_count": 37
        }
      ]
    },
    {
      "cell_type": "markdown",
      "metadata": {
        "id": "6m9UgkzWFtb4"
      },
      "source": [
        "##### **Training**"
      ]
    },
    {
      "cell_type": "code",
      "metadata": {
        "colab": {
          "base_uri": "https://localhost:8080/"
        },
        "id": "-8EDU8N1SADs",
        "outputId": "dabe9253-d305-4ea2-a9ff-d9416aa10379"
      },
      "source": [
        "perf = []\n",
        "models = []\n",
        "models.append(['Random Forest Classifier', rf_tuned])\n",
        "models.append(['XGBoost Classifier', xgb_tuned])\n",
        "\n",
        "for i, v in models:\n",
        "    start_time = time.time()\n",
        "    accuracy = metrics.accuracy_score(y_smote, v.predict(X_smote))\n",
        "    auc = roc_auc_score(y_smote, v.predict_proba(X_smote)[:,1])\n",
        "    confusion_matrix = metrics.confusion_matrix(y_smote, v.predict(X_smote))\n",
        "    classification = metrics.classification_report(y_smote, v.predict(X_smote))\n",
        "    f1_score = metrics.f1_score(y_smote, v.predict(X_smote))\n",
        "    end_time = time.time()\n",
        "    final_time = end_time - start_time\n",
        "    perf.append([i, f1_score, accuracy, final_time])\n",
        "\n",
        "    print()\n",
        "    print('============================== {} Model Evaluation Tuned =============================='.format(i))\n",
        "    print()\n",
        "    print(\"Model Accuracy:\" \"\\n\", accuracy)\n",
        "    print()\n",
        "    print(\"F1 Score:\" \"\\n\", f1_score)\n",
        "    print()\n",
        "    print(\"Confusion matrix:\" \"\\n\", confusion_matrix)\n",
        "    print()\n",
        "    print(\"Classification report:\" \"\\n\", classification) \n",
        "    print()\n",
        "    print(\"AUC Score :\" \"\\n\", auc)\n",
        "    print()\n",
        "    print('============================== Lama Training: {} =============================='.format(final_time))"
      ],
      "execution_count": null,
      "outputs": [
        {
          "output_type": "stream",
          "name": "stdout",
          "text": [
            "\n",
            "============================== Random Forest Classifier Model Evaluation Tuned ==============================\n",
            "\n",
            "Model Accuracy:\n",
            " 0.9906695938529089\n",
            "\n",
            "F1 Score:\n",
            " 0.9906571406139594\n",
            "\n",
            "Confusion matrix:\n",
            " [[6326   51]\n",
            " [  68 6309]]\n",
            "\n",
            "Classification report:\n",
            "               precision    recall  f1-score   support\n",
            "\n",
            "           0       0.99      0.99      0.99      6377\n",
            "           1       0.99      0.99      0.99      6377\n",
            "\n",
            "    accuracy                           0.99     12754\n",
            "   macro avg       0.99      0.99      0.99     12754\n",
            "weighted avg       0.99      0.99      0.99     12754\n",
            "\n",
            "\n",
            "AUC Score :\n",
            " 0.9995653385155004\n",
            "\n",
            "============================== Lama Training: 1.973005771636963 ==============================\n",
            "\n",
            "============================== XGBoost Classifier Model Evaluation Tuned ==============================\n",
            "\n",
            "Model Accuracy:\n",
            " 0.9066175317547436\n",
            "\n",
            "F1 Score:\n",
            " 0.9035080612492911\n",
            "\n",
            "Confusion matrix:\n",
            " [[5987  390]\n",
            " [ 801 5576]]\n",
            "\n",
            "Classification report:\n",
            "               precision    recall  f1-score   support\n",
            "\n",
            "           0       0.88      0.94      0.91      6377\n",
            "           1       0.93      0.87      0.90      6377\n",
            "\n",
            "    accuracy                           0.91     12754\n",
            "   macro avg       0.91      0.91      0.91     12754\n",
            "weighted avg       0.91      0.91      0.91     12754\n",
            "\n",
            "\n",
            "AUC Score :\n",
            " 0.9680639261238757\n",
            "\n",
            "============================== Lama Training: 0.8920807838439941 ==============================\n"
          ]
        }
      ]
    },
    {
      "cell_type": "markdown",
      "metadata": {
        "id": "yXJMQt8uNlWF"
      },
      "source": [
        "##### **Testing**"
      ]
    },
    {
      "cell_type": "code",
      "metadata": {
        "colab": {
          "base_uri": "https://localhost:8080/"
        },
        "id": "CAFjA_RESeWL",
        "outputId": "dc22d1aa-5860-4c27-f20f-cecf3a269efd"
      },
      "source": [
        "for i, v in models:\n",
        "    start_time = time.time()\n",
        "    accuracy = metrics.accuracy_score(y_test, v.predict(X_test))\n",
        "    auc = roc_auc_score(y_test, v.predict_proba(X_test)[:,1])\n",
        "    confusion_matrix = metrics.confusion_matrix(y_test, v.predict(X_test))\n",
        "    classification = metrics.classification_report(y_test, v.predict(X_test))\n",
        "    f1_score = metrics.f1_score(y_test, v.predict(X_test))\n",
        "    end_time = time.time()\n",
        "    final_time = end_time - start_time\n",
        "    perf.append([i, f1_score, accuracy, final_time])\n",
        "\n",
        "    print()\n",
        "    print('============================== {} Model Evaluation Tuned =============================='.format(i))\n",
        "    print()\n",
        "    print(\"Model Accuracy:\" \"\\n\", accuracy)\n",
        "    print()\n",
        "    print(\"F1 Score:\" \"\\n\", f1_score)\n",
        "    print()\n",
        "    print(\"Confusion matrix:\" \"\\n\", confusion_matrix)\n",
        "    print()\n",
        "    print(\"Classification report:\" \"\\n\", classification) \n",
        "    print()\n",
        "    print(\"AUC Score :\" \"\\n\", auc)\n",
        "    print()\n",
        "    print('============================== Lama Testing: {} =============================='.format(final_time))"
      ],
      "execution_count": null,
      "outputs": [
        {
          "output_type": "stream",
          "name": "stdout",
          "text": [
            "\n",
            "============================== Random Forest Classifier Model Evaluation Tuned ==============================\n",
            "\n",
            "Model Accuracy:\n",
            " 0.8555\n",
            "\n",
            "F1 Score:\n",
            " 0.6162018592297476\n",
            "\n",
            "Confusion matrix:\n",
            " [[1479  107]\n",
            " [ 182  232]]\n",
            "\n",
            "Classification report:\n",
            "               precision    recall  f1-score   support\n",
            "\n",
            "           0       0.89      0.93      0.91      1586\n",
            "           1       0.68      0.56      0.62       414\n",
            "\n",
            "    accuracy                           0.86      2000\n",
            "   macro avg       0.79      0.75      0.76      2000\n",
            "weighted avg       0.85      0.86      0.85      2000\n",
            "\n",
            "\n",
            "AUC Score :\n",
            " 0.8485540752112384\n",
            "\n",
            "============================== Lama Testing: 0.5260164737701416 ==============================\n",
            "\n",
            "============================== XGBoost Classifier Model Evaluation Tuned ==============================\n",
            "\n",
            "Model Accuracy:\n",
            " 0.8615\n",
            "\n",
            "F1 Score:\n",
            " 0.6506935687263555\n",
            "\n",
            "Confusion matrix:\n",
            " [[1465  121]\n",
            " [ 156  258]]\n",
            "\n",
            "Classification report:\n",
            "               precision    recall  f1-score   support\n",
            "\n",
            "           0       0.90      0.92      0.91      1586\n",
            "           1       0.68      0.62      0.65       414\n",
            "\n",
            "    accuracy                           0.86      2000\n",
            "   macro avg       0.79      0.77      0.78      2000\n",
            "weighted avg       0.86      0.86      0.86      2000\n",
            "\n",
            "\n",
            "AUC Score :\n",
            " 0.8768953585418304\n",
            "\n",
            "============================== Lama Testing: 0.15351009368896484 ==============================\n"
          ]
        }
      ]
    },
    {
      "cell_type": "code",
      "metadata": {
        "colab": {
          "base_uri": "https://localhost:8080/",
          "height": 355
        },
        "id": "lnl1F9MaSrtk",
        "outputId": "8c5ad7b0-abb2-4344-862c-e43247b7f7a9"
      },
      "source": [
        "from plot_metric.functions import BinaryClassification\n",
        "# Visualisation with plot_metric\n",
        "rf_proba = rf_tuned.predict_proba(X_test)[:,1]\n",
        "xgb_proba = xgb_tuned.predict_proba(X_test)[:,1]\n",
        "\n",
        "bc_rf = BinaryClassification(y_test, rf_proba, labels=[\"Class 1\", \"Class 2\"])\n",
        "bc_xgb = BinaryClassification(y_test, xgb_proba, labels=[\"Class 1\", \"Class 2\"])\n",
        "\n",
        "# Figures\n",
        "plt.figure(figsize=(6,5))\n",
        "bc_rf.plot_roc_curve(c_roc_curve='blue')\n",
        "bc_xgb.plot_roc_curve(c_roc_curve='red')\n",
        "plt.show()"
      ],
      "execution_count": null,
      "outputs": [
        {
          "output_type": "display_data",
          "data": {
            "image/png": "[encoded data removed]",
            "text/plain": [
              "<Figure size 432x360 with 1 Axes>"
            ]
          },
          "metadata": {}
        }
      ]
    },
    {
      "cell_type": "markdown",
      "metadata": {
        "id": "VCxlJXCvoan1"
      },
      "source": [
        "### **Model Evaluation**"
      ]
    },
    {
      "cell_type": "code",
      "metadata": {
        "colab": {
          "base_uri": "https://localhost:8080/",
          "height": 175
        },
        "id": "G44GejtcOZxp",
        "outputId": "b9acc3bd-6967-433c-895c-f862606d32e7"
      },
      "source": [
        "eval = pd.DataFrame(perf_without_params)\n",
        "eval = eval.rename({0:'Model', 1:'F1-Score', 2:'Accuracy', 3:'Running Time(s)'}, axis=1)\n",
        "eval = eval.rename({0:'Training', 1:'Training', 2:'Testing', 3:'Testing'}, axis=0)\n",
        "eval"
      ],
      "execution_count": null,
      "outputs": [
        {
          "output_type": "execute_result",
          "data": {
            "text/html": [
              "<div>\n",
              "<style scoped>\n",
              "    .dataframe tbody tr th:only-of-type {\n",
              "        vertical-align: middle;\n",
              "    }\n",
              "\n",
              "    .dataframe tbody tr th {\n",
              "        vertical-align: top;\n",
              "    }\n",
              "\n",
              "    .dataframe thead th {\n",
              "        text-align: right;\n",
              "    }\n",
              "</style>\n",
              "<table border=\"1\" class=\"dataframe\">\n",
              "  <thead>\n",
              "    <tr style=\"text-align: right;\">\n",
              "      <th></th>\n",
              "      <th>Model</th>\n",
              "      <th>F1-Score</th>\n",
              "      <th>Accuracy</th>\n",
              "      <th>Running Time(s)</th>\n",
              "    </tr>\n",
              "  </thead>\n",
              "  <tbody>\n",
              "    <tr>\n",
              "      <th>Training</th>\n",
              "      <td>Random Forest Classifier</td>\n",
              "      <td>1.000000</td>\n",
              "      <td>1.000000</td>\n",
              "      <td>0.819040</td>\n",
              "    </tr>\n",
              "    <tr>\n",
              "      <th>Training</th>\n",
              "      <td>XGBoost Classifier</td>\n",
              "      <td>0.883218</td>\n",
              "      <td>0.887329</td>\n",
              "      <td>0.190053</td>\n",
              "    </tr>\n",
              "    <tr>\n",
              "      <th>Testing</th>\n",
              "      <td>Random Forest Classifier</td>\n",
              "      <td>0.604278</td>\n",
              "      <td>0.852000</td>\n",
              "      <td>0.237223</td>\n",
              "    </tr>\n",
              "    <tr>\n",
              "      <th>Testing</th>\n",
              "      <td>XGBoost Classifier</td>\n",
              "      <td>0.631043</td>\n",
              "      <td>0.855000</td>\n",
              "      <td>0.049525</td>\n",
              "    </tr>\n",
              "  </tbody>\n",
              "</table>\n",
              "</div>"
            ],
            "text/plain": [
              "                             Model  F1-Score  Accuracy  Running Time(s)\n",
              "Training  Random Forest Classifier  1.000000  1.000000         0.819040\n",
              "Training        XGBoost Classifier  0.883218  0.887329         0.190053\n",
              "Testing   Random Forest Classifier  0.604278  0.852000         0.237223\n",
              "Testing         XGBoost Classifier  0.631043  0.855000         0.049525"
            ]
          },
          "metadata": {},
          "execution_count": 153
        }
      ]
    },
    {
      "cell_type": "code",
      "metadata": {
        "colab": {
          "base_uri": "https://localhost:8080/",
          "height": 175
        },
        "id": "2eMMBRZ-OCl7",
        "outputId": "b14f285f-be0f-44dc-9b25-b77b1e529e75"
      },
      "source": [
        "eval_tuned = pd.DataFrame(perf)\n",
        "eval_tuned = eval_tuned.rename({0:'Model', 1:'F1-Score', 2:'Accuracy', 3:'Running Time(s)'}, axis=1)\n",
        "eval_tuned = eval_tuned.rename({0:'Training', 1:'Training', 2:'Testing', 3:'Testing'}, axis=0)\n",
        "eval_tuned"
      ],
      "execution_count": null,
      "outputs": [
        {
          "output_type": "execute_result",
          "data": {
            "text/html": [
              "<div>\n",
              "<style scoped>\n",
              "    .dataframe tbody tr th:only-of-type {\n",
              "        vertical-align: middle;\n",
              "    }\n",
              "\n",
              "    .dataframe tbody tr th {\n",
              "        vertical-align: top;\n",
              "    }\n",
              "\n",
              "    .dataframe thead th {\n",
              "        text-align: right;\n",
              "    }\n",
              "</style>\n",
              "<table border=\"1\" class=\"dataframe\">\n",
              "  <thead>\n",
              "    <tr style=\"text-align: right;\">\n",
              "      <th></th>\n",
              "      <th>Model</th>\n",
              "      <th>F1-Score</th>\n",
              "      <th>Accuracy</th>\n",
              "      <th>Running Time(s)</th>\n",
              "    </tr>\n",
              "  </thead>\n",
              "  <tbody>\n",
              "    <tr>\n",
              "      <th>Training</th>\n",
              "      <td>Random Forest Classifier</td>\n",
              "      <td>0.990416</td>\n",
              "      <td>0.990434</td>\n",
              "      <td>1.532557</td>\n",
              "    </tr>\n",
              "    <tr>\n",
              "      <th>Training</th>\n",
              "      <td>XGBoost Classifier</td>\n",
              "      <td>0.900381</td>\n",
              "      <td>0.903638</td>\n",
              "      <td>0.684930</td>\n",
              "    </tr>\n",
              "    <tr>\n",
              "      <th>Testing</th>\n",
              "      <td>Random Forest Classifier</td>\n",
              "      <td>0.605333</td>\n",
              "      <td>0.852000</td>\n",
              "      <td>0.456696</td>\n",
              "    </tr>\n",
              "    <tr>\n",
              "      <th>Testing</th>\n",
              "      <td>XGBoost Classifier</td>\n",
              "      <td>0.641124</td>\n",
              "      <td>0.859500</td>\n",
              "      <td>0.111273</td>\n",
              "    </tr>\n",
              "  </tbody>\n",
              "</table>\n",
              "</div>"
            ],
            "text/plain": [
              "                             Model  F1-Score  Accuracy  Running Time(s)\n",
              "Training  Random Forest Classifier  0.990416  0.990434         1.532557\n",
              "Training        XGBoost Classifier  0.900381  0.903638         0.684930\n",
              "Testing   Random Forest Classifier  0.605333  0.852000         0.456696\n",
              "Testing         XGBoost Classifier  0.641124  0.859500         0.111273"
            ]
          },
          "metadata": {},
          "execution_count": 152
        }
      ]
    }
  ]
}